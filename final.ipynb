{
 "cells": [
  {
   "cell_type": "markdown",
   "source": [
    "# LING583 Final Project\n",
    "## Amazon Magazine Subscription Reviews\n",
    "**Dataset source:** https://cseweb.ucsd.edu/~jmcauley/datasets/amazon_v2/"
   ],
   "metadata": {
    "collapsed": false
   }
  },
  {
   "cell_type": "markdown",
   "source": [
    "----------------------\n",
    "#### Index\n",
    "##### 1. Data Preparation\n",
    "##### 2. Dummy Baseline\n",
    "##### 3. VADER\n",
    "######    (i) Compound Scores\n",
    "######    (ii) Postive/Negative Scores Difference\n",
    "##### 4. SGD Classifier\n",
    "######    (i) Simple Spacy Tokenizer\n",
    "######    (ii) Syntactically Augmented Classification\n",
    "##### 5. Conclusions"
   ],
   "metadata": {
    "collapsed": false
   }
  },
  {
   "cell_type": "code",
   "execution_count": 68,
   "outputs": [],
   "source": [
    "import warnings\n",
    "warnings.filterwarnings('ignore')\n",
    "\n",
    "import numpy as np\n",
    "import pandas as pd\n",
    "from tqdm.auto import tqdm\n",
    "\n",
    "tqdm.pandas()"
   ],
   "metadata": {
    "collapsed": false
   }
  },
  {
   "cell_type": "code",
   "execution_count": 10,
   "outputs": [
    {
     "data": {
      "text/plain": "   overall vote  verified   reviewTime      reviewerID        asin  \\\n0        5    9     False   11 8, 2001   AH2IFH762VY5U  B00005N7P0   \n1        5    9     False  10 31, 2001   AOSFI0JEYU4XM  B00005N7P0   \n2        3   14     False  03 24, 2007  A3JPFWKS83R49V  B00005N7OJ   \n3        5   13     False  11 10, 2006  A19FKU6JZQ2ECJ  B00005N7OJ   \n4        5  NaN      True  07 14, 2014  A25MDGOMZ2GALN  B00005N7P0   \n5        3  NaN      True  06 24, 2014   A3XT9XXWXFMJ1  B00005N7P0   \n6        5  NaN      True   06 1, 2014  A3ERU005ES1IHT  B00005N7P0   \n7        5  NaN      True  05 15, 2014    AC2278WPK3EU  B00005N7P0   \n8        4  NaN      True  03 28, 2014  A3QRR8PSCBI07C  B00005N7P0   \n9        4  NaN      True  02 26, 2014   A5QQOOZJOVPSF  B00005N7P0   \n\n         reviewerName                                         reviewText  \\\n0        ted sedlmayr  for computer enthusiast, MaxPC is a welcome si...   \n1     Amazon Customer  Thank god this is not a Ziff Davis publication...   \n2         Bryan Carey  Antiques Magazine is a publication made for an...   \n3  Patricia L. Porada  This beautiful magazine is in itself a work of...   \n4               Alvey                          A great read every issue.   \n5        Jeff A Milne  This magazine was great for the times but as w...   \n6       P. R THOMPSON  I've read Maximum PC (MPC) for many years. The...   \n7      Earle Williams  We ordered this magazine for our grandson (the...   \n8                 JJM  I have subscribed to the nook version for a fe...   \n9   John L. Mehlmauer  I'm old, and so is my computer.  Any advice th...   \n\n                                           summary  unixReviewTime  \\\n0           AVID READER SINCE \"boot\"  WAS THE NAME      1005177600   \n1                               The straight scoop      1004486400   \n2  Antiques Magazine is Good, but not for Everyone      1174694400   \n3                           THE  DISCERNING READER      1163116800   \n4                                       Five Stars      1405296000   \n5                            Great While it lasted      1403568000   \n6     For Both the Newbie and The Advanced PC User      1401580800   \n7                                       Great Gift      1400112000   \n8                  Decent magazine at a good price      1395964800   \n9                                Cheapskates guide      1393372800   \n\n                            style image  \n0                             NaN   NaN  \n1                             NaN   NaN  \n2  {'Format:': ' Print Magazine'}   NaN  \n3  {'Format:': ' Print Magazine'}   NaN  \n4                             NaN   NaN  \n5                             NaN   NaN  \n6                             NaN   NaN  \n7                             NaN   NaN  \n8                             NaN   NaN  \n9                             NaN   NaN  ",
      "text/html": "<div>\n<style scoped>\n    .dataframe tbody tr th:only-of-type {\n        vertical-align: middle;\n    }\n\n    .dataframe tbody tr th {\n        vertical-align: top;\n    }\n\n    .dataframe thead th {\n        text-align: right;\n    }\n</style>\n<table border=\"1\" class=\"dataframe\">\n  <thead>\n    <tr style=\"text-align: right;\">\n      <th></th>\n      <th>overall</th>\n      <th>vote</th>\n      <th>verified</th>\n      <th>reviewTime</th>\n      <th>reviewerID</th>\n      <th>asin</th>\n      <th>reviewerName</th>\n      <th>reviewText</th>\n      <th>summary</th>\n      <th>unixReviewTime</th>\n      <th>style</th>\n      <th>image</th>\n    </tr>\n  </thead>\n  <tbody>\n    <tr>\n      <th>0</th>\n      <td>5</td>\n      <td>9</td>\n      <td>False</td>\n      <td>11 8, 2001</td>\n      <td>AH2IFH762VY5U</td>\n      <td>B00005N7P0</td>\n      <td>ted sedlmayr</td>\n      <td>for computer enthusiast, MaxPC is a welcome si...</td>\n      <td>AVID READER SINCE \"boot\"  WAS THE NAME</td>\n      <td>1005177600</td>\n      <td>NaN</td>\n      <td>NaN</td>\n    </tr>\n    <tr>\n      <th>1</th>\n      <td>5</td>\n      <td>9</td>\n      <td>False</td>\n      <td>10 31, 2001</td>\n      <td>AOSFI0JEYU4XM</td>\n      <td>B00005N7P0</td>\n      <td>Amazon Customer</td>\n      <td>Thank god this is not a Ziff Davis publication...</td>\n      <td>The straight scoop</td>\n      <td>1004486400</td>\n      <td>NaN</td>\n      <td>NaN</td>\n    </tr>\n    <tr>\n      <th>2</th>\n      <td>3</td>\n      <td>14</td>\n      <td>False</td>\n      <td>03 24, 2007</td>\n      <td>A3JPFWKS83R49V</td>\n      <td>B00005N7OJ</td>\n      <td>Bryan Carey</td>\n      <td>Antiques Magazine is a publication made for an...</td>\n      <td>Antiques Magazine is Good, but not for Everyone</td>\n      <td>1174694400</td>\n      <td>{'Format:': ' Print Magazine'}</td>\n      <td>NaN</td>\n    </tr>\n    <tr>\n      <th>3</th>\n      <td>5</td>\n      <td>13</td>\n      <td>False</td>\n      <td>11 10, 2006</td>\n      <td>A19FKU6JZQ2ECJ</td>\n      <td>B00005N7OJ</td>\n      <td>Patricia L. Porada</td>\n      <td>This beautiful magazine is in itself a work of...</td>\n      <td>THE  DISCERNING READER</td>\n      <td>1163116800</td>\n      <td>{'Format:': ' Print Magazine'}</td>\n      <td>NaN</td>\n    </tr>\n    <tr>\n      <th>4</th>\n      <td>5</td>\n      <td>NaN</td>\n      <td>True</td>\n      <td>07 14, 2014</td>\n      <td>A25MDGOMZ2GALN</td>\n      <td>B00005N7P0</td>\n      <td>Alvey</td>\n      <td>A great read every issue.</td>\n      <td>Five Stars</td>\n      <td>1405296000</td>\n      <td>NaN</td>\n      <td>NaN</td>\n    </tr>\n    <tr>\n      <th>5</th>\n      <td>3</td>\n      <td>NaN</td>\n      <td>True</td>\n      <td>06 24, 2014</td>\n      <td>A3XT9XXWXFMJ1</td>\n      <td>B00005N7P0</td>\n      <td>Jeff A Milne</td>\n      <td>This magazine was great for the times but as w...</td>\n      <td>Great While it lasted</td>\n      <td>1403568000</td>\n      <td>NaN</td>\n      <td>NaN</td>\n    </tr>\n    <tr>\n      <th>6</th>\n      <td>5</td>\n      <td>NaN</td>\n      <td>True</td>\n      <td>06 1, 2014</td>\n      <td>A3ERU005ES1IHT</td>\n      <td>B00005N7P0</td>\n      <td>P. R THOMPSON</td>\n      <td>I've read Maximum PC (MPC) for many years. The...</td>\n      <td>For Both the Newbie and The Advanced PC User</td>\n      <td>1401580800</td>\n      <td>NaN</td>\n      <td>NaN</td>\n    </tr>\n    <tr>\n      <th>7</th>\n      <td>5</td>\n      <td>NaN</td>\n      <td>True</td>\n      <td>05 15, 2014</td>\n      <td>AC2278WPK3EU</td>\n      <td>B00005N7P0</td>\n      <td>Earle Williams</td>\n      <td>We ordered this magazine for our grandson (the...</td>\n      <td>Great Gift</td>\n      <td>1400112000</td>\n      <td>NaN</td>\n      <td>NaN</td>\n    </tr>\n    <tr>\n      <th>8</th>\n      <td>4</td>\n      <td>NaN</td>\n      <td>True</td>\n      <td>03 28, 2014</td>\n      <td>A3QRR8PSCBI07C</td>\n      <td>B00005N7P0</td>\n      <td>JJM</td>\n      <td>I have subscribed to the nook version for a fe...</td>\n      <td>Decent magazine at a good price</td>\n      <td>1395964800</td>\n      <td>NaN</td>\n      <td>NaN</td>\n    </tr>\n    <tr>\n      <th>9</th>\n      <td>4</td>\n      <td>NaN</td>\n      <td>True</td>\n      <td>02 26, 2014</td>\n      <td>A5QQOOZJOVPSF</td>\n      <td>B00005N7P0</td>\n      <td>John L. Mehlmauer</td>\n      <td>I'm old, and so is my computer.  Any advice th...</td>\n      <td>Cheapskates guide</td>\n      <td>1393372800</td>\n      <td>NaN</td>\n      <td>NaN</td>\n    </tr>\n  </tbody>\n</table>\n</div>"
     },
     "execution_count": 10,
     "metadata": {},
     "output_type": "execute_result"
    }
   ],
   "source": [
    "dataset = \"Magazine_Subscriptions.json\"\n",
    "\n",
    "try:\n",
    "    df = pd.read_json(dataset, lines=True)\n",
    "\n",
    "except Exception as error:\n",
    "    print(type(error))\n",
    "    url = f\"https://datarepo.eng.ucsd.edu/mcauley_group/data/amazon_v2/categoryFiles/{dataset}.gz\"\n",
    "    df = pd.read_json(url, compression='gzip', lines=True)\n",
    "\n",
    "df.head(10)"
   ],
   "metadata": {
    "collapsed": false
   }
  },
  {
   "cell_type": "markdown",
   "source": [
    "---------------------\n",
    "## Data Preparation"
   ],
   "metadata": {
    "collapsed": false
   }
  },
  {
   "cell_type": "code",
   "execution_count": 3,
   "outputs": [
    {
     "name": "stdout",
     "output_type": "stream",
     "text": [
      "<class 'pandas.core.frame.DataFrame'>\n",
      "RangeIndex: 89689 entries, 0 to 89688\n",
      "Data columns (total 12 columns):\n",
      " #   Column          Non-Null Count  Dtype \n",
      "---  ------          --------------  ----- \n",
      " 0   overall         89689 non-null  int64 \n",
      " 1   vote            24103 non-null  object\n",
      " 2   verified        89689 non-null  bool  \n",
      " 3   reviewTime      89689 non-null  object\n",
      " 4   reviewerID      89689 non-null  object\n",
      " 5   asin            89689 non-null  object\n",
      " 6   reviewerName    89687 non-null  object\n",
      " 7   reviewText      89656 non-null  object\n",
      " 8   summary         89670 non-null  object\n",
      " 9   unixReviewTime  89689 non-null  int64 \n",
      " 10  style           51398 non-null  object\n",
      " 11  image           135 non-null    object\n",
      "dtypes: bool(1), int64(2), object(9)\n",
      "memory usage: 7.6+ MB\n",
      "None\n"
     ]
    }
   ],
   "source": [
    "print(df.info())"
   ],
   "metadata": {
    "collapsed": false
   }
  },
  {
   "cell_type": "code",
   "execution_count": 4,
   "outputs": [
    {
     "name": "stdout",
     "output_type": "stream",
     "text": [
      "5    53790\n",
      "4    12676\n",
      "1    11029\n",
      "3     6971\n",
      "2     5223\n",
      "Name: overall, dtype: int64\n"
     ]
    }
   ],
   "source": [
    "print(df[\"overall\"].value_counts())"
   ],
   "metadata": {
    "collapsed": false
   }
  },
  {
   "cell_type": "code",
   "execution_count": 6,
   "outputs": [
    {
     "name": "stdout",
     "output_type": "stream",
     "text": [
      "for computer enthusiast, MaxPC is a welcome sight in your mailbox. i can remember for years savorying every page of \"boot\" (as it was called in beginning) as i was (and still am) obcessed with PC's. Anyone, from advanced users - to beginners looking for knowledge - can profit from every issue of MaxPC. the icing on the cake is the subscription that comes with a CD-ROM as it is packed with demos, utilities, and other useful apps (very helpful for those not blessed with broadband connections). Until I discovered the community of hardware enthusiast web sites, MaxPC, formerly \"boot\", was my only really informative source for computing news and articles. To this day, i consider my subscription to it worth more than 10 subscriptions to most other computing mags. I can't wait until they merge with DVD media and maybe end up offering more info on Divx codecs, encoding your own movies, and best bang for the buck audio and video equipment. Try a few issues (with CD)and you may get hooked...\n"
     ]
    }
   ],
   "source": [
    "print(df[\"reviewText\"].iloc[0])"
   ],
   "metadata": {
    "collapsed": false
   }
  },
  {
   "cell_type": "code",
   "execution_count": 12,
   "outputs": [
    {
     "data": {
      "text/plain": "89689"
     },
     "execution_count": 12,
     "metadata": {},
     "output_type": "execute_result"
    }
   ],
   "source": [
    "len(df)"
   ],
   "metadata": {
    "collapsed": false
   }
  },
  {
   "cell_type": "code",
   "execution_count": 15,
   "outputs": [
    {
     "data": {
      "text/plain": "overall               0\nvote              65586\nverified              0\nreviewTime            0\nreviewerID            0\nasin                  0\nreviewerName          2\nreviewText           33\nsummary              19\nunixReviewTime        0\nstyle             38291\nimage             89554\ndtype: int64"
     },
     "execution_count": 15,
     "metadata": {},
     "output_type": "execute_result"
    }
   ],
   "source": [
    "df.isna().sum()"
   ],
   "metadata": {
    "collapsed": false
   }
  },
  {
   "cell_type": "markdown",
   "source": [
    "**Drooping NaNs:** There are rows with no review texts which are not useful to us. Hence, dropping them. Thankfully, all rows have overall ratings."
   ],
   "metadata": {
    "collapsed": false
   }
  },
  {
   "cell_type": "code",
   "execution_count": 16,
   "outputs": [],
   "source": [
    "df.dropna(inplace=True, subset=[\"reviewText\"])"
   ],
   "metadata": {
    "collapsed": false
   }
  },
  {
   "cell_type": "code",
   "execution_count": 21,
   "outputs": [
    {
     "data": {
      "text/plain": "       overall vote  verified  reviewTime      reviewerID        asin  \\\n0            3  NaN     False  01 1, 2002  A39V0MDFSV8U5E  B00005QDWQ   \n1            4    3     False  01 1, 2002  A1D0GLYRI50EKT  B00005QDWQ   \n2            5  NaN     False  01 1, 2002   ABMD9JHWWRLA1  B00005Q7DL   \n3            4    2     False  01 1, 2003  A2ML4MTV1Q9HKY  B00005NIPP   \n4            4  NaN     False  01 1, 2003  A3176TH657RBAB  B00005OM4W   \n...        ...  ...       ...         ...             ...         ...   \n89651        5  NaN      True  12 9, 2017   AG21LI7BOJKOL  B00005N7Q5   \n89652        5  NaN      True  12 9, 2017  A39DIG54R3H7W3  B000EGCIW8   \n89653        3  NaN     False  12 9, 2017  A3O6GAFBSFV6E5  B005DNA3LU   \n89654        5  NaN      True  12 9, 2017  A1I15HQYUV86NB  B00007AWME   \n89655        2    2      True  12 9, 2017   AAC4DCRFXG7TK  B00I2Y9AU2   \n\n          reviewerName                                         reviewText  \\\n0      Amazon Customer  When I ordered this magazine, my order was bas...   \n1      David W. Powell  This magazine is very informative and well don...   \n2           Cybertron3  What else is there to say?  This mag beats all...   \n3      Amazon Customer  JOKES, SEX, GIRLS, CLOTHES, GADGETS...\\nif you...   \n4             Sierra Y  I like this magazine, I have a subscription.  ...   \n...                ...                                                ...   \n89651  Amazon Customer                                      Great price!!   \n89652             BETH       Love this magazine!  It's my monthly escape.   \n89653            Dar66  I think the magazine is interesting, but I ord...   \n89654  Amazon Customer                     My husband loved the magazine.   \n89655    Megan Swiftle  Kinda a waste of money for what you get. Each ...   \n\n                                                 summary  unixReviewTime  \\\n0                                          I was misled.      1009843200   \n1                                         Great mag but,      1009843200   \n2                                              MA Rules!      1009843200   \n3                                                 MAX-EM      1041379200   \n4                                                I LIKE!      1041379200   \n...                                                  ...             ...   \n89651                                         Five Stars      1512777600   \n89652                                           love it.      1512777600   \n89653  I think the magazine is interesting, but I ord...      1512777600   \n89654                                         Five Stars      1512777600   \n89655                                          Two Stars      1512777600   \n\n                                style image  \n0                                 NaN   NaN  \n1                                 NaN   NaN  \n2                                 NaN   NaN  \n3                                 NaN   NaN  \n4      {'Format:': ' Print Magazine'}   NaN  \n...                               ...   ...  \n89651  {'Format:': ' Print Magazine'}   NaN  \n89652  {'Format:': ' Print Magazine'}   NaN  \n89653  {'Format:': ' Print Magazine'}   NaN  \n89654  {'Format:': ' Print Magazine'}   NaN  \n89655  {'Format:': ' Print Magazine'}   NaN  \n\n[89656 rows x 12 columns]",
      "text/html": "<div>\n<style scoped>\n    .dataframe tbody tr th:only-of-type {\n        vertical-align: middle;\n    }\n\n    .dataframe tbody tr th {\n        vertical-align: top;\n    }\n\n    .dataframe thead th {\n        text-align: right;\n    }\n</style>\n<table border=\"1\" class=\"dataframe\">\n  <thead>\n    <tr style=\"text-align: right;\">\n      <th></th>\n      <th>overall</th>\n      <th>vote</th>\n      <th>verified</th>\n      <th>reviewTime</th>\n      <th>reviewerID</th>\n      <th>asin</th>\n      <th>reviewerName</th>\n      <th>reviewText</th>\n      <th>summary</th>\n      <th>unixReviewTime</th>\n      <th>style</th>\n      <th>image</th>\n    </tr>\n  </thead>\n  <tbody>\n    <tr>\n      <th>0</th>\n      <td>3</td>\n      <td>NaN</td>\n      <td>False</td>\n      <td>01 1, 2002</td>\n      <td>A39V0MDFSV8U5E</td>\n      <td>B00005QDWQ</td>\n      <td>Amazon Customer</td>\n      <td>When I ordered this magazine, my order was bas...</td>\n      <td>I was misled.</td>\n      <td>1009843200</td>\n      <td>NaN</td>\n      <td>NaN</td>\n    </tr>\n    <tr>\n      <th>1</th>\n      <td>4</td>\n      <td>3</td>\n      <td>False</td>\n      <td>01 1, 2002</td>\n      <td>A1D0GLYRI50EKT</td>\n      <td>B00005QDWQ</td>\n      <td>David W. Powell</td>\n      <td>This magazine is very informative and well don...</td>\n      <td>Great mag but,</td>\n      <td>1009843200</td>\n      <td>NaN</td>\n      <td>NaN</td>\n    </tr>\n    <tr>\n      <th>2</th>\n      <td>5</td>\n      <td>NaN</td>\n      <td>False</td>\n      <td>01 1, 2002</td>\n      <td>ABMD9JHWWRLA1</td>\n      <td>B00005Q7DL</td>\n      <td>Cybertron3</td>\n      <td>What else is there to say?  This mag beats all...</td>\n      <td>MA Rules!</td>\n      <td>1009843200</td>\n      <td>NaN</td>\n      <td>NaN</td>\n    </tr>\n    <tr>\n      <th>3</th>\n      <td>4</td>\n      <td>2</td>\n      <td>False</td>\n      <td>01 1, 2003</td>\n      <td>A2ML4MTV1Q9HKY</td>\n      <td>B00005NIPP</td>\n      <td>Amazon Customer</td>\n      <td>JOKES, SEX, GIRLS, CLOTHES, GADGETS...\\nif you...</td>\n      <td>MAX-EM</td>\n      <td>1041379200</td>\n      <td>NaN</td>\n      <td>NaN</td>\n    </tr>\n    <tr>\n      <th>4</th>\n      <td>4</td>\n      <td>NaN</td>\n      <td>False</td>\n      <td>01 1, 2003</td>\n      <td>A3176TH657RBAB</td>\n      <td>B00005OM4W</td>\n      <td>Sierra Y</td>\n      <td>I like this magazine, I have a subscription.  ...</td>\n      <td>I LIKE!</td>\n      <td>1041379200</td>\n      <td>{'Format:': ' Print Magazine'}</td>\n      <td>NaN</td>\n    </tr>\n    <tr>\n      <th>...</th>\n      <td>...</td>\n      <td>...</td>\n      <td>...</td>\n      <td>...</td>\n      <td>...</td>\n      <td>...</td>\n      <td>...</td>\n      <td>...</td>\n      <td>...</td>\n      <td>...</td>\n      <td>...</td>\n      <td>...</td>\n    </tr>\n    <tr>\n      <th>89651</th>\n      <td>5</td>\n      <td>NaN</td>\n      <td>True</td>\n      <td>12 9, 2017</td>\n      <td>AG21LI7BOJKOL</td>\n      <td>B00005N7Q5</td>\n      <td>Amazon Customer</td>\n      <td>Great price!!</td>\n      <td>Five Stars</td>\n      <td>1512777600</td>\n      <td>{'Format:': ' Print Magazine'}</td>\n      <td>NaN</td>\n    </tr>\n    <tr>\n      <th>89652</th>\n      <td>5</td>\n      <td>NaN</td>\n      <td>True</td>\n      <td>12 9, 2017</td>\n      <td>A39DIG54R3H7W3</td>\n      <td>B000EGCIW8</td>\n      <td>BETH</td>\n      <td>Love this magazine!  It's my monthly escape.</td>\n      <td>love it.</td>\n      <td>1512777600</td>\n      <td>{'Format:': ' Print Magazine'}</td>\n      <td>NaN</td>\n    </tr>\n    <tr>\n      <th>89653</th>\n      <td>3</td>\n      <td>NaN</td>\n      <td>False</td>\n      <td>12 9, 2017</td>\n      <td>A3O6GAFBSFV6E5</td>\n      <td>B005DNA3LU</td>\n      <td>Dar66</td>\n      <td>I think the magazine is interesting, but I ord...</td>\n      <td>I think the magazine is interesting, but I ord...</td>\n      <td>1512777600</td>\n      <td>{'Format:': ' Print Magazine'}</td>\n      <td>NaN</td>\n    </tr>\n    <tr>\n      <th>89654</th>\n      <td>5</td>\n      <td>NaN</td>\n      <td>True</td>\n      <td>12 9, 2017</td>\n      <td>A1I15HQYUV86NB</td>\n      <td>B00007AWME</td>\n      <td>Amazon Customer</td>\n      <td>My husband loved the magazine.</td>\n      <td>Five Stars</td>\n      <td>1512777600</td>\n      <td>{'Format:': ' Print Magazine'}</td>\n      <td>NaN</td>\n    </tr>\n    <tr>\n      <th>89655</th>\n      <td>2</td>\n      <td>2</td>\n      <td>True</td>\n      <td>12 9, 2017</td>\n      <td>AAC4DCRFXG7TK</td>\n      <td>B00I2Y9AU2</td>\n      <td>Megan Swiftle</td>\n      <td>Kinda a waste of money for what you get. Each ...</td>\n      <td>Two Stars</td>\n      <td>1512777600</td>\n      <td>{'Format:': ' Print Magazine'}</td>\n      <td>NaN</td>\n    </tr>\n  </tbody>\n</table>\n<p>89656 rows × 12 columns</p>\n</div>"
     },
     "execution_count": 21,
     "metadata": {},
     "output_type": "execute_result"
    }
   ],
   "source": [
    "df.sort_values(by=[\"reviewTime\"], ignore_index=True, inplace=True)\n",
    "df"
   ],
   "metadata": {
    "collapsed": false
   }
  },
  {
   "cell_type": "code",
   "execution_count": 33,
   "outputs": [
    {
     "data": {
      "text/plain": "       overall                                         reviewText  \\\n0            3  When I ordered this magazine, my order was bas...   \n1            4  This magazine is very informative and well don...   \n2            5  What else is there to say?  This mag beats all...   \n3            4  JOKES, SEX, GIRLS, CLOTHES, GADGETS...\\nif you...   \n4            4  I like this magazine, I have a subscription.  ...   \n...        ...                                                ...   \n89651        5                                      Great price!!   \n89652        5       Love this magazine!  It's my monthly escape.   \n89653        3  I think the magazine is interesting, but I ord...   \n89654        5                     My husband loved the magazine.   \n89655        2  Kinda a waste of money for what you get. Each ...   \n\n                                                 summary  \n0                                          I was misled.  \n1                                         Great mag but,  \n2                                              MA Rules!  \n3                                                 MAX-EM  \n4                                                I LIKE!  \n...                                                  ...  \n89651                                         Five Stars  \n89652                                           love it.  \n89653  I think the magazine is interesting, but I ord...  \n89654                                         Five Stars  \n89655                                          Two Stars  \n\n[89656 rows x 3 columns]",
      "text/html": "<div>\n<style scoped>\n    .dataframe tbody tr th:only-of-type {\n        vertical-align: middle;\n    }\n\n    .dataframe tbody tr th {\n        vertical-align: top;\n    }\n\n    .dataframe thead th {\n        text-align: right;\n    }\n</style>\n<table border=\"1\" class=\"dataframe\">\n  <thead>\n    <tr style=\"text-align: right;\">\n      <th></th>\n      <th>overall</th>\n      <th>reviewText</th>\n      <th>summary</th>\n    </tr>\n  </thead>\n  <tbody>\n    <tr>\n      <th>0</th>\n      <td>3</td>\n      <td>When I ordered this magazine, my order was bas...</td>\n      <td>I was misled.</td>\n    </tr>\n    <tr>\n      <th>1</th>\n      <td>4</td>\n      <td>This magazine is very informative and well don...</td>\n      <td>Great mag but,</td>\n    </tr>\n    <tr>\n      <th>2</th>\n      <td>5</td>\n      <td>What else is there to say?  This mag beats all...</td>\n      <td>MA Rules!</td>\n    </tr>\n    <tr>\n      <th>3</th>\n      <td>4</td>\n      <td>JOKES, SEX, GIRLS, CLOTHES, GADGETS...\\nif you...</td>\n      <td>MAX-EM</td>\n    </tr>\n    <tr>\n      <th>4</th>\n      <td>4</td>\n      <td>I like this magazine, I have a subscription.  ...</td>\n      <td>I LIKE!</td>\n    </tr>\n    <tr>\n      <th>...</th>\n      <td>...</td>\n      <td>...</td>\n      <td>...</td>\n    </tr>\n    <tr>\n      <th>89651</th>\n      <td>5</td>\n      <td>Great price!!</td>\n      <td>Five Stars</td>\n    </tr>\n    <tr>\n      <th>89652</th>\n      <td>5</td>\n      <td>Love this magazine!  It's my monthly escape.</td>\n      <td>love it.</td>\n    </tr>\n    <tr>\n      <th>89653</th>\n      <td>3</td>\n      <td>I think the magazine is interesting, but I ord...</td>\n      <td>I think the magazine is interesting, but I ord...</td>\n    </tr>\n    <tr>\n      <th>89654</th>\n      <td>5</td>\n      <td>My husband loved the magazine.</td>\n      <td>Five Stars</td>\n    </tr>\n    <tr>\n      <th>89655</th>\n      <td>2</td>\n      <td>Kinda a waste of money for what you get. Each ...</td>\n      <td>Two Stars</td>\n    </tr>\n  </tbody>\n</table>\n<p>89656 rows × 3 columns</p>\n</div>"
     },
     "execution_count": 33,
     "metadata": {},
     "output_type": "execute_result"
    }
   ],
   "source": [
    "df = df[[\"overall\", \"reviewText\", \"summary\"]]\n",
    "df"
   ],
   "metadata": {
    "collapsed": false
   }
  },
  {
   "cell_type": "code",
   "execution_count": 34,
   "outputs": [
    {
     "data": {
      "text/plain": "       overall                                         reviewText  \\\n0            3  When I ordered this magazine, my order was bas...   \n1            4  This magazine is very informative and well don...   \n2            5  What else is there to say?  This mag beats all...   \n3            4  JOKES, SEX, GIRLS, CLOTHES, GADGETS...\\nif you...   \n4            4  I like this magazine, I have a subscription.  ...   \n...        ...                                                ...   \n89651        5                                      Great price!!   \n89652        5       Love this magazine!  It's my monthly escape.   \n89653        3  I think the magazine is interesting, but I ord...   \n89654        5                     My husband loved the magazine.   \n89655        2  Kinda a waste of money for what you get. Each ...   \n\n                                                 summary  \\\n0                                          I was misled.   \n1                                         Great mag but,   \n2                                              MA Rules!   \n3                                                 MAX-EM   \n4                                                I LIKE!   \n...                                                  ...   \n89651                                         Five Stars   \n89652                                           love it.   \n89653  I think the magazine is interesting, but I ord...   \n89654                                         Five Stars   \n89655                                          Two Stars   \n\n                                                    text  \n0      I was misled. When I ordered this magazine, my...  \n1      Great mag but, This magazine is very informati...  \n2      MA Rules! What else is there to say?  This mag...  \n3      MAX-EM JOKES, SEX, GIRLS, CLOTHES, GADGETS...\\...  \n4      I LIKE! I like this magazine, I have a subscri...  \n...                                                  ...  \n89651                           Five Stars Great price!!  \n89652  love it. Love this magazine!  It's my monthly ...  \n89653  I think the magazine is interesting, but I ord...  \n89654          Five Stars My husband loved the magazine.  \n89655  Two Stars Kinda a waste of money for what you ...  \n\n[89656 rows x 4 columns]",
      "text/html": "<div>\n<style scoped>\n    .dataframe tbody tr th:only-of-type {\n        vertical-align: middle;\n    }\n\n    .dataframe tbody tr th {\n        vertical-align: top;\n    }\n\n    .dataframe thead th {\n        text-align: right;\n    }\n</style>\n<table border=\"1\" class=\"dataframe\">\n  <thead>\n    <tr style=\"text-align: right;\">\n      <th></th>\n      <th>overall</th>\n      <th>reviewText</th>\n      <th>summary</th>\n      <th>text</th>\n    </tr>\n  </thead>\n  <tbody>\n    <tr>\n      <th>0</th>\n      <td>3</td>\n      <td>When I ordered this magazine, my order was bas...</td>\n      <td>I was misled.</td>\n      <td>I was misled. When I ordered this magazine, my...</td>\n    </tr>\n    <tr>\n      <th>1</th>\n      <td>4</td>\n      <td>This magazine is very informative and well don...</td>\n      <td>Great mag but,</td>\n      <td>Great mag but, This magazine is very informati...</td>\n    </tr>\n    <tr>\n      <th>2</th>\n      <td>5</td>\n      <td>What else is there to say?  This mag beats all...</td>\n      <td>MA Rules!</td>\n      <td>MA Rules! What else is there to say?  This mag...</td>\n    </tr>\n    <tr>\n      <th>3</th>\n      <td>4</td>\n      <td>JOKES, SEX, GIRLS, CLOTHES, GADGETS...\\nif you...</td>\n      <td>MAX-EM</td>\n      <td>MAX-EM JOKES, SEX, GIRLS, CLOTHES, GADGETS...\\...</td>\n    </tr>\n    <tr>\n      <th>4</th>\n      <td>4</td>\n      <td>I like this magazine, I have a subscription.  ...</td>\n      <td>I LIKE!</td>\n      <td>I LIKE! I like this magazine, I have a subscri...</td>\n    </tr>\n    <tr>\n      <th>...</th>\n      <td>...</td>\n      <td>...</td>\n      <td>...</td>\n      <td>...</td>\n    </tr>\n    <tr>\n      <th>89651</th>\n      <td>5</td>\n      <td>Great price!!</td>\n      <td>Five Stars</td>\n      <td>Five Stars Great price!!</td>\n    </tr>\n    <tr>\n      <th>89652</th>\n      <td>5</td>\n      <td>Love this magazine!  It's my monthly escape.</td>\n      <td>love it.</td>\n      <td>love it. Love this magazine!  It's my monthly ...</td>\n    </tr>\n    <tr>\n      <th>89653</th>\n      <td>3</td>\n      <td>I think the magazine is interesting, but I ord...</td>\n      <td>I think the magazine is interesting, but I ord...</td>\n      <td>I think the magazine is interesting, but I ord...</td>\n    </tr>\n    <tr>\n      <th>89654</th>\n      <td>5</td>\n      <td>My husband loved the magazine.</td>\n      <td>Five Stars</td>\n      <td>Five Stars My husband loved the magazine.</td>\n    </tr>\n    <tr>\n      <th>89655</th>\n      <td>2</td>\n      <td>Kinda a waste of money for what you get. Each ...</td>\n      <td>Two Stars</td>\n      <td>Two Stars Kinda a waste of money for what you ...</td>\n    </tr>\n  </tbody>\n</table>\n<p>89656 rows × 4 columns</p>\n</div>"
     },
     "execution_count": 34,
     "metadata": {},
     "output_type": "execute_result"
    }
   ],
   "source": [
    "df[\"text\"] = + df[\"summary\"] + \" \" + df[\"reviewText\"]\n",
    "df"
   ],
   "metadata": {
    "collapsed": false
   }
  },
  {
   "cell_type": "markdown",
   "source": [
    "**Assumptions:**\n",
    "1. If the overall rating is greater than or equal to 4, then the customer is positive about the subscription.\n",
    "2. Else, customer is negative about the subscription, and may drop it.\n",
    "3. Hence, 4 and 5 ratings are considered good sentiment and 1, 2 and 3 are considered bad sentiment.\n",
    "4. We will use these to decide, if a customer is likely to churn or not."
   ],
   "metadata": {
    "collapsed": false
   }
  },
  {
   "cell_type": "code",
   "execution_count": 35,
   "outputs": [
    {
     "data": {
      "text/plain": "       overall                                         reviewText  \\\n0            3  When I ordered this magazine, my order was bas...   \n1            4  This magazine is very informative and well don...   \n2            5  What else is there to say?  This mag beats all...   \n3            4  JOKES, SEX, GIRLS, CLOTHES, GADGETS...\\nif you...   \n4            4  I like this magazine, I have a subscription.  ...   \n...        ...                                                ...   \n89651        5                                      Great price!!   \n89652        5       Love this magazine!  It's my monthly escape.   \n89653        3  I think the magazine is interesting, but I ord...   \n89654        5                     My husband loved the magazine.   \n89655        2  Kinda a waste of money for what you get. Each ...   \n\n                                                 summary  \\\n0                                          I was misled.   \n1                                         Great mag but,   \n2                                              MA Rules!   \n3                                                 MAX-EM   \n4                                                I LIKE!   \n...                                                  ...   \n89651                                         Five Stars   \n89652                                           love it.   \n89653  I think the magazine is interesting, but I ord...   \n89654                                         Five Stars   \n89655                                          Two Stars   \n\n                                                    text sentiment  \n0      I was misled. When I ordered this magazine, my...       bad  \n1      Great mag but, This magazine is very informati...      good  \n2      MA Rules! What else is there to say?  This mag...      good  \n3      MAX-EM JOKES, SEX, GIRLS, CLOTHES, GADGETS...\\...      good  \n4      I LIKE! I like this magazine, I have a subscri...      good  \n...                                                  ...       ...  \n89651                           Five Stars Great price!!      good  \n89652  love it. Love this magazine!  It's my monthly ...      good  \n89653  I think the magazine is interesting, but I ord...       bad  \n89654          Five Stars My husband loved the magazine.      good  \n89655  Two Stars Kinda a waste of money for what you ...       bad  \n\n[89656 rows x 5 columns]",
      "text/html": "<div>\n<style scoped>\n    .dataframe tbody tr th:only-of-type {\n        vertical-align: middle;\n    }\n\n    .dataframe tbody tr th {\n        vertical-align: top;\n    }\n\n    .dataframe thead th {\n        text-align: right;\n    }\n</style>\n<table border=\"1\" class=\"dataframe\">\n  <thead>\n    <tr style=\"text-align: right;\">\n      <th></th>\n      <th>overall</th>\n      <th>reviewText</th>\n      <th>summary</th>\n      <th>text</th>\n      <th>sentiment</th>\n    </tr>\n  </thead>\n  <tbody>\n    <tr>\n      <th>0</th>\n      <td>3</td>\n      <td>When I ordered this magazine, my order was bas...</td>\n      <td>I was misled.</td>\n      <td>I was misled. When I ordered this magazine, my...</td>\n      <td>bad</td>\n    </tr>\n    <tr>\n      <th>1</th>\n      <td>4</td>\n      <td>This magazine is very informative and well don...</td>\n      <td>Great mag but,</td>\n      <td>Great mag but, This magazine is very informati...</td>\n      <td>good</td>\n    </tr>\n    <tr>\n      <th>2</th>\n      <td>5</td>\n      <td>What else is there to say?  This mag beats all...</td>\n      <td>MA Rules!</td>\n      <td>MA Rules! What else is there to say?  This mag...</td>\n      <td>good</td>\n    </tr>\n    <tr>\n      <th>3</th>\n      <td>4</td>\n      <td>JOKES, SEX, GIRLS, CLOTHES, GADGETS...\\nif you...</td>\n      <td>MAX-EM</td>\n      <td>MAX-EM JOKES, SEX, GIRLS, CLOTHES, GADGETS...\\...</td>\n      <td>good</td>\n    </tr>\n    <tr>\n      <th>4</th>\n      <td>4</td>\n      <td>I like this magazine, I have a subscription.  ...</td>\n      <td>I LIKE!</td>\n      <td>I LIKE! I like this magazine, I have a subscri...</td>\n      <td>good</td>\n    </tr>\n    <tr>\n      <th>...</th>\n      <td>...</td>\n      <td>...</td>\n      <td>...</td>\n      <td>...</td>\n      <td>...</td>\n    </tr>\n    <tr>\n      <th>89651</th>\n      <td>5</td>\n      <td>Great price!!</td>\n      <td>Five Stars</td>\n      <td>Five Stars Great price!!</td>\n      <td>good</td>\n    </tr>\n    <tr>\n      <th>89652</th>\n      <td>5</td>\n      <td>Love this magazine!  It's my monthly escape.</td>\n      <td>love it.</td>\n      <td>love it. Love this magazine!  It's my monthly ...</td>\n      <td>good</td>\n    </tr>\n    <tr>\n      <th>89653</th>\n      <td>3</td>\n      <td>I think the magazine is interesting, but I ord...</td>\n      <td>I think the magazine is interesting, but I ord...</td>\n      <td>I think the magazine is interesting, but I ord...</td>\n      <td>bad</td>\n    </tr>\n    <tr>\n      <th>89654</th>\n      <td>5</td>\n      <td>My husband loved the magazine.</td>\n      <td>Five Stars</td>\n      <td>Five Stars My husband loved the magazine.</td>\n      <td>good</td>\n    </tr>\n    <tr>\n      <th>89655</th>\n      <td>2</td>\n      <td>Kinda a waste of money for what you get. Each ...</td>\n      <td>Two Stars</td>\n      <td>Two Stars Kinda a waste of money for what you ...</td>\n      <td>bad</td>\n    </tr>\n  </tbody>\n</table>\n<p>89656 rows × 5 columns</p>\n</div>"
     },
     "execution_count": 35,
     "metadata": {},
     "output_type": "execute_result"
    }
   ],
   "source": [
    "sentiment = []\n",
    "for i in range(len(df)):\n",
    "    if df.iloc[i,0] >= 4:\n",
    "        sentiment.append(\"good\")\n",
    "    else:\n",
    "        sentiment.append(\"bad\")\n",
    "df[\"sentiment\"]=sentiment\n",
    "df"
   ],
   "metadata": {
    "collapsed": false
   }
  },
  {
   "cell_type": "code",
   "execution_count": 36,
   "outputs": [
    {
     "data": {
      "text/plain": "good    66436\nbad     23220\nName: sentiment, dtype: int64"
     },
     "execution_count": 36,
     "metadata": {},
     "output_type": "execute_result"
    }
   ],
   "source": [
    "df.sentiment.value_counts()"
   ],
   "metadata": {
    "collapsed": false
   }
  },
  {
   "cell_type": "code",
   "execution_count": 38,
   "outputs": [
    {
     "data": {
      "text/plain": "       overall                                               text sentiment\n0            3  I was misled. When I ordered this magazine, my...       bad\n1            4  Great mag but, This magazine is very informati...      good\n2            5  MA Rules! What else is there to say?  This mag...      good\n3            4  MAX-EM JOKES, SEX, GIRLS, CLOTHES, GADGETS...\\...      good\n4            4  I LIKE! I like this magazine, I have a subscri...      good\n...        ...                                                ...       ...\n89651        5                           Five Stars Great price!!      good\n89652        5  love it. Love this magazine!  It's my monthly ...      good\n89653        3  I think the magazine is interesting, but I ord...       bad\n89654        5          Five Stars My husband loved the magazine.      good\n89655        2  Two Stars Kinda a waste of money for what you ...       bad\n\n[89656 rows x 3 columns]",
      "text/html": "<div>\n<style scoped>\n    .dataframe tbody tr th:only-of-type {\n        vertical-align: middle;\n    }\n\n    .dataframe tbody tr th {\n        vertical-align: top;\n    }\n\n    .dataframe thead th {\n        text-align: right;\n    }\n</style>\n<table border=\"1\" class=\"dataframe\">\n  <thead>\n    <tr style=\"text-align: right;\">\n      <th></th>\n      <th>overall</th>\n      <th>text</th>\n      <th>sentiment</th>\n    </tr>\n  </thead>\n  <tbody>\n    <tr>\n      <th>0</th>\n      <td>3</td>\n      <td>I was misled. When I ordered this magazine, my...</td>\n      <td>bad</td>\n    </tr>\n    <tr>\n      <th>1</th>\n      <td>4</td>\n      <td>Great mag but, This magazine is very informati...</td>\n      <td>good</td>\n    </tr>\n    <tr>\n      <th>2</th>\n      <td>5</td>\n      <td>MA Rules! What else is there to say?  This mag...</td>\n      <td>good</td>\n    </tr>\n    <tr>\n      <th>3</th>\n      <td>4</td>\n      <td>MAX-EM JOKES, SEX, GIRLS, CLOTHES, GADGETS...\\...</td>\n      <td>good</td>\n    </tr>\n    <tr>\n      <th>4</th>\n      <td>4</td>\n      <td>I LIKE! I like this magazine, I have a subscri...</td>\n      <td>good</td>\n    </tr>\n    <tr>\n      <th>...</th>\n      <td>...</td>\n      <td>...</td>\n      <td>...</td>\n    </tr>\n    <tr>\n      <th>89651</th>\n      <td>5</td>\n      <td>Five Stars Great price!!</td>\n      <td>good</td>\n    </tr>\n    <tr>\n      <th>89652</th>\n      <td>5</td>\n      <td>love it. Love this magazine!  It's my monthly ...</td>\n      <td>good</td>\n    </tr>\n    <tr>\n      <th>89653</th>\n      <td>3</td>\n      <td>I think the magazine is interesting, but I ord...</td>\n      <td>bad</td>\n    </tr>\n    <tr>\n      <th>89654</th>\n      <td>5</td>\n      <td>Five Stars My husband loved the magazine.</td>\n      <td>good</td>\n    </tr>\n    <tr>\n      <th>89655</th>\n      <td>2</td>\n      <td>Two Stars Kinda a waste of money for what you ...</td>\n      <td>bad</td>\n    </tr>\n  </tbody>\n</table>\n<p>89656 rows × 3 columns</p>\n</div>"
     },
     "execution_count": 38,
     "metadata": {},
     "output_type": "execute_result"
    }
   ],
   "source": [
    "df = df[[\"overall\", \"text\", \"sentiment\"]]\n",
    "df"
   ],
   "metadata": {
    "collapsed": false
   }
  },
  {
   "cell_type": "markdown",
   "source": [
    "Now, that we have our data ready and processed as needed. We will proceed to analyze this data."
   ],
   "metadata": {
    "collapsed": false
   }
  },
  {
   "cell_type": "markdown",
   "source": [
    "---------------------\n",
    "## Dummy Baseline"
   ],
   "metadata": {
    "collapsed": false
   }
  },
  {
   "cell_type": "code",
   "execution_count": 69,
   "outputs": [],
   "source": [
    "from sklearn.dummy import DummyClassifier\n",
    "from sklearn.metrics import classification_report, accuracy_score\n",
    "from sklearn.model_selection import train_test_split"
   ],
   "metadata": {
    "collapsed": false
   }
  },
  {
   "cell_type": "code",
   "execution_count": 45,
   "outputs": [],
   "source": [
    "train, test = train_test_split(\n",
    "    df, test_size=0.4, stratify=df[\"sentiment\"], random_state=619\n",
    ")"
   ],
   "metadata": {
    "collapsed": false
   }
  },
  {
   "cell_type": "code",
   "execution_count": 46,
   "outputs": [
    {
     "name": "stdout",
     "output_type": "stream",
     "text": [
      "              precision    recall  f1-score   support\n",
      "\n",
      "         bad       0.00      0.00      0.00      9288\n",
      "        good       0.74      1.00      0.85     26575\n",
      "\n",
      "    accuracy                           0.74     35863\n",
      "   macro avg       0.37      0.50      0.43     35863\n",
      "weighted avg       0.55      0.74      0.63     35863\n",
      "\n"
     ]
    }
   ],
   "source": [
    "dummy = DummyClassifier()\n",
    "dummy.fit(train[\"text\"], train[\"sentiment\"])\n",
    "dummy_pred = dummy.predict(test[\"text\"])\n",
    "print(classification_report(test[\"sentiment\"], dummy_pred))"
   ],
   "metadata": {
    "collapsed": false
   }
  },
  {
   "cell_type": "markdown",
   "source": [
    "**Observations:**\n",
    "1. Our Baseline Dummy Classifier is able to predict accurately(well according to our assumptions), 74 percent of the times if the customer is retained, just by predicting all as good sentiment.\n",
    "2. Let's explore, various other methods."
   ],
   "metadata": {
    "collapsed": false
   }
  },
  {
   "cell_type": "markdown",
   "source": [
    "---------------------------\n",
    "## VADER"
   ],
   "metadata": {
    "collapsed": false
   }
  },
  {
   "cell_type": "code",
   "execution_count": 48,
   "outputs": [
    {
     "name": "stderr",
     "output_type": "stream",
     "text": [
      "[nltk_data] Downloading package vader_lexicon to\n",
      "[nltk_data]     /Users/vijaybhk/nltk_data...\n"
     ]
    }
   ],
   "source": [
    "import matplotlib.pyplot as plt\n",
    "import nltk\n",
    "nltk.download(\"vader_lexicon\")\n",
    "from nltk.sentiment.vader import SentimentIntensityAnalyzer"
   ],
   "metadata": {
    "collapsed": false
   }
  },
  {
   "cell_type": "markdown",
   "source": [
    "### Compound scores\n",
    "\n",
    "VADER \"compound\" scores are an aggregate measure of overall sentiment. VADER uses a predefined lexicon so there's no need for \"training\" data."
   ],
   "metadata": {
    "collapsed": false
   }
  },
  {
   "cell_type": "code",
   "execution_count": 65,
   "outputs": [
    {
     "data": {
      "text/plain": "  0%|          | 0/53793 [00:00<?, ?it/s]",
      "application/vnd.jupyter.widget-view+json": {
       "version_major": 2,
       "version_minor": 0,
       "model_id": "5207b43938244f79bcb384fa23a8a760"
      }
     },
     "metadata": {},
     "output_type": "display_data"
    },
    {
     "data": {
      "text/plain": "  0%|          | 0/35863 [00:00<?, ?it/s]",
      "application/vnd.jupyter.widget-view+json": {
       "version_major": 2,
       "version_minor": 0,
       "model_id": "bb0d90b4befe4ac5a39ade5eb7413ca3"
      }
     },
     "metadata": {},
     "output_type": "display_data"
    }
   ],
   "source": [
    "analyzer = SentimentIntensityAnalyzer()\n",
    "\n",
    "def get_sentiment(text):\n",
    "    score = analyzer.polarity_scores(str(text))\n",
    "    return score[\"compound\"]\n",
    "\n",
    "\n",
    "train[\"vader\"] = train[\"text\"].progress_apply(get_sentiment)\n",
    "test[\"vader\"] = test[\"text\"].progress_apply(get_sentiment)"
   ],
   "metadata": {
    "collapsed": false
   }
  },
  {
   "cell_type": "code",
   "execution_count": 66,
   "outputs": [
    {
     "data": {
      "text/plain": "<Figure size 640x480 with 1 Axes>",
      "image/png": "[encoded data removed]"
     },
     "metadata": {},
     "output_type": "display_data"
    }
   ],
   "source": [
    "train.boxplot(\"vader\", by=\"overall\", grid=False, showfliers=False)\n",
    "plt.ylabel(\"VADER composite\")\n",
    "plt.title(\"\")\n",
    "plt.show()"
   ],
   "metadata": {
    "collapsed": false
   }
  },
  {
   "cell_type": "code",
   "execution_count": 67,
   "outputs": [
    {
     "data": {
      "text/plain": "<Figure size 640x480 with 1 Axes>",
      "image/png": "[encoded data removed]"
     },
     "metadata": {},
     "output_type": "display_data"
    }
   ],
   "source": [
    "train.boxplot(\"vader\", by=\"sentiment\", grid=False, showfliers=False)\n",
    "plt.ylabel(\"VADER composite\")\n",
    "plt.title(\"\")\n",
    "plt.show()"
   ],
   "metadata": {
    "collapsed": false
   }
  },
  {
   "cell_type": "markdown",
   "source": [
    "1. Vader composite are supposed to positive for positive reviews and negative for negative reviews.\n",
    "2. As we compare vader composite scores to the review overall ratings and sentiments, we can observe that the variation is huge.\n",
    "3. Ratings 1, 2 and 3 or bad sentiment(which is our primary target in identifying) is spread across the entire score range, and the mean is above 0, that is positive.\n",
    "4. So we can say using Vader composite scores, differentiating a good and bad review is not that accurate.\n",
    "5. Let's find its accuracy by getting a threshold value to differentiate good and bad in the composite scores."
   ],
   "metadata": {
    "collapsed": false
   }
  },
  {
   "cell_type": "code",
   "execution_count": 70,
   "outputs": [],
   "source": [
    "theta = np.linspace(-1.0, 1.0, 50)\n",
    "compound = [accuracy_score((train[\"vader\"] > t), (train[\"sentiment\"] == \"good\")) for t in theta]"
   ],
   "metadata": {
    "collapsed": false
   }
  },
  {
   "cell_type": "code",
   "execution_count": 71,
   "outputs": [
    {
     "data": {
      "text/plain": "<Figure size 640x480 with 1 Axes>",
      "image/png": "[encoded data removed]"
     },
     "metadata": {},
     "output_type": "display_data"
    }
   ],
   "source": [
    "plt.plot(theta, compound)\n",
    "plt.xlabel(\"VADER cutoff\")\n",
    "plt.ylabel(\"Train acc.\")\n",
    "plt.show()"
   ],
   "metadata": {
    "collapsed": false
   }
  },
  {
   "cell_type": "code",
   "execution_count": 74,
   "outputs": [
    {
     "data": {
      "text/plain": "0.26530612244897944"
     },
     "execution_count": 74,
     "metadata": {},
     "output_type": "execute_result"
    }
   ],
   "source": [
    "thresh = theta[np.argmax(compound)]\n",
    "thresh"
   ],
   "metadata": {
    "collapsed": false
   }
  },
  {
   "cell_type": "markdown",
   "source": [
    "Peak is at 0.265 composite score, meaning if we classify anything above it as good and equal or below as bad, we get more accurate results."
   ],
   "metadata": {
    "collapsed": false
   }
  },
  {
   "cell_type": "code",
   "execution_count": 75,
   "outputs": [
    {
     "data": {
      "text/plain": "0.8168864846778017"
     },
     "execution_count": 75,
     "metadata": {},
     "output_type": "execute_result"
    }
   ],
   "source": [
    "accuracy_score((test[\"vader\"] > thresh), (test[\"sentiment\"] == \"good\"))"
   ],
   "metadata": {
    "collapsed": false
   }
  },
  {
   "cell_type": "code",
   "execution_count": 97,
   "outputs": [
    {
     "name": "stdout",
     "output_type": "stream",
     "text": [
      "              precision    recall  f1-score   support\n",
      "\n",
      "       False       0.47      0.70      0.56      6199\n",
      "        True       0.93      0.83      0.88     29664\n",
      "\n",
      "    accuracy                           0.81     35863\n",
      "   macro avg       0.70      0.77      0.72     35863\n",
      "weighted avg       0.85      0.81      0.83     35863\n",
      "\n"
     ]
    }
   ],
   "source": [
    "print(classification_report((test[\"vader\"] > thresh), (test[\"sentiment\"] == \"good\")))"
   ],
   "metadata": {
    "collapsed": false
   }
  },
  {
   "cell_type": "markdown",
   "source": [
    "Using Vader composite scores, we are able to predict our customer sentiment correctly 81 percent of the times, which is a good metric when compared to our dummy baseline(if we considered all good)."
   ],
   "metadata": {
    "collapsed": false
   }
  },
  {
   "cell_type": "markdown",
   "source": [
    "Let's observe some errors that Vader made.\n",
    "1. Consider an observation where vader gave a composite score above 0.9 which is a good sentiment as per our chosen threshold, and it's originally labeled sentiment is bad.\n",
    "2. Consider another observation where vader gave a composite score of less than -0.9 which is a bad sentiment as per our chosen threshold, and it's originally labeled sentiment is good."
   ],
   "metadata": {
    "collapsed": false
   }
  },
  {
   "cell_type": "code",
   "execution_count": 81,
   "outputs": [
    {
     "data": {
      "text/plain": "\"Great price Great price. I don't seem to know enough to understand it. It's I'm sure it a great magazine for those whom can understand it.\""
     },
     "execution_count": 81,
     "metadata": {},
     "output_type": "execute_result"
    }
   ],
   "source": [
    "train[(train[\"vader\"] > 0.9) & (train[\"sentiment\"] == \"bad\")][\"text\"].iloc[0]"
   ],
   "metadata": {
    "collapsed": false
   }
  },
  {
   "cell_type": "code",
   "execution_count": 82,
   "outputs": [
    {
     "data": {
      "text/plain": "{'neg': 0.0, 'neu': 0.578, 'pos': 0.422, 'compound': 0.9393}"
     },
     "execution_count": 82,
     "metadata": {},
     "output_type": "execute_result"
    }
   ],
   "source": [
    "analyzer.polarity_scores(_)"
   ],
   "metadata": {
    "collapsed": false
   }
  },
  {
   "cell_type": "markdown",
   "source": [
    "Looking at the words used in this review, just observing one by one seeing it out of context, one would assume it as positive, but when you put it into context, the reviewer thinks it(magazine) is not a good fit for him.\n",
    "Vader fails to interpret intention."
   ],
   "metadata": {
    "collapsed": false
   }
  },
  {
   "cell_type": "markdown",
   "source": [
    "Vader did not give a negative score to the above review, only found it neutral and positive."
   ],
   "metadata": {
    "collapsed": false
   }
  },
  {
   "cell_type": "code",
   "execution_count": 83,
   "outputs": [
    {
     "data": {
      "text/plain": "'Insecure Bullies Won\\'t Win Will I like it? I don\\'t know. Do I speak french? No. Do I think some of it might be offensive? Maybe. Is the purchase worth it? The purchase is priceless. You can\\'t put a value on a free and open society. Stick it to these mental midget, violent, pathetic, cowardly human beings who are so insecure about their beliefs that they will mercilessly kill fellow human beings because they are \"offended\" by what they say. Show them that life is what is sacred. Stand together and rid this world of this disease.'"
     },
     "execution_count": 83,
     "metadata": {},
     "output_type": "execute_result"
    }
   ],
   "source": [
    "train[(train[\"vader\"] < -0.9) & (train[\"sentiment\"] == \"good\")][\"text\"].iloc[1]"
   ],
   "metadata": {
    "collapsed": false
   }
  },
  {
   "cell_type": "code",
   "execution_count": 84,
   "outputs": [
    {
     "data": {
      "text/plain": "{'neg': 0.294, 'neu': 0.662, 'pos': 0.044, 'compound': -0.9826}"
     },
     "execution_count": 84,
     "metadata": {},
     "output_type": "execute_result"
    }
   ],
   "source": [
    "analyzer.polarity_scores(_)"
   ],
   "metadata": {
    "collapsed": false
   }
  },
  {
   "cell_type": "markdown",
   "source": [
    "Although the words used in this review are highly negative, reviewer is positive about the content in the magazine, but the magazine itself is strongly negative, when reviewer put forth review of it, it came through as negative to vader. Hence, Vader gave the review a low positive score, which reflected in the negative compound score."
   ],
   "metadata": {
    "collapsed": false
   }
  },
  {
   "cell_type": "markdown",
   "source": [
    "## Positive/negative difference\n",
    "\n",
    "An alternative to the compound score is to compare the % positive vs the % negative.\n",
    "Let's take scoring as positive minus negative instead of the composite and see if this approach would give better results."
   ],
   "metadata": {
    "collapsed": false
   }
  },
  {
   "cell_type": "code",
   "execution_count": 86,
   "outputs": [
    {
     "data": {
      "text/plain": "  0%|          | 0/53793 [00:00<?, ?it/s]",
      "application/vnd.jupyter.widget-view+json": {
       "version_major": 2,
       "version_minor": 0,
       "model_id": "0a45c560074a4e6093a8c59e7a3c0650"
      }
     },
     "metadata": {},
     "output_type": "display_data"
    },
    {
     "data": {
      "text/plain": "  0%|          | 0/35863 [00:00<?, ?it/s]",
      "application/vnd.jupyter.widget-view+json": {
       "version_major": 2,
       "version_minor": 0,
       "model_id": "4d997a6d62f7400796a53176e6f4a0b2"
      }
     },
     "metadata": {},
     "output_type": "display_data"
    }
   ],
   "source": [
    "def get_diff(text):\n",
    "    scores = analyzer.polarity_scores(str(text))\n",
    "    return scores[\"pos\"] - scores[\"neg\"]\n",
    "\n",
    "\n",
    "train[\"vader_diff\"] = train[\"text\"].progress_apply(get_diff)\n",
    "test[\"vader_diff\"] = test[\"text\"].progress_apply(get_diff)"
   ],
   "metadata": {
    "collapsed": false
   }
  },
  {
   "cell_type": "code",
   "execution_count": 87,
   "outputs": [
    {
     "data": {
      "text/plain": "<Figure size 640x480 with 1 Axes>",
      "image/png": "[encoded data removed]"
     },
     "metadata": {},
     "output_type": "display_data"
    }
   ],
   "source": [
    "train.boxplot(\"vader_diff\", by=\"overall\", grid=False, showfliers=False)\n",
    "plt.ylabel(\"VADER pos - VADER neg\")\n",
    "plt.title(\"\")\n",
    "plt.show()"
   ],
   "metadata": {
    "collapsed": false
   }
  },
  {
   "cell_type": "code",
   "execution_count": 90,
   "outputs": [
    {
     "data": {
      "text/plain": "<Figure size 640x480 with 1 Axes>",
      "image/png": "[encoded data removed]"
     },
     "metadata": {},
     "output_type": "display_data"
    }
   ],
   "source": [
    "train.boxplot(\"vader_diff\", by=\"sentiment\", grid=False, showfliers=False)\n",
    "plt.ylabel(\"VADER pos - VADER neg\")\n",
    "plt.title(\"\")\n",
    "plt.show()"
   ],
   "metadata": {
    "collapsed": false
   }
  },
  {
   "cell_type": "markdown",
   "source": [
    "This approach shows a better correlation with user ratings and sentiment. Let's find its accuracy by getting a threshold value to differentiate good and bad in the difference scores. so that we can compare how accurate is this approach compared to the previous one."
   ],
   "metadata": {
    "collapsed": false
   }
  },
  {
   "cell_type": "code",
   "execution_count": 98,
   "outputs": [
    {
     "data": {
      "text/plain": "Text(0, 0.5, 'Train acc.')"
     },
     "execution_count": 98,
     "metadata": {},
     "output_type": "execute_result"
    },
    {
     "data": {
      "text/plain": "<Figure size 640x480 with 1 Axes>",
      "image/png": "[encoded data removed]"
     },
     "metadata": {},
     "output_type": "display_data"
    }
   ],
   "source": [
    "theta = np.linspace(-1.0, 1.0, 200)\n",
    "diff = [accuracy_score((train[\"vader_diff\"] > t), (train[\"sentiment\"] == \"good\")) for t in theta]\n",
    "\n",
    "plt.plot(theta, diff)\n",
    "plt.xlabel(\"VADER cutoff\")\n",
    "plt.ylabel(\"Train acc.\")"
   ],
   "metadata": {
    "collapsed": false
   }
  },
  {
   "cell_type": "code",
   "execution_count": 99,
   "outputs": [
    {
     "data": {
      "text/plain": "0.07537688442211055"
     },
     "execution_count": 99,
     "metadata": {},
     "output_type": "execute_result"
    }
   ],
   "source": [
    "thresh = theta[np.argmax(diff)]\n",
    "thresh"
   ],
   "metadata": {
    "collapsed": false
   }
  },
  {
   "cell_type": "code",
   "execution_count": 101,
   "outputs": [
    {
     "data": {
      "text/plain": "0.8281794607255388"
     },
     "execution_count": 101,
     "metadata": {},
     "output_type": "execute_result"
    }
   ],
   "source": [
    "accuracy_score((test[\"vader_diff\"] > thresh), (test[\"sentiment\"] == \"good\"))"
   ],
   "metadata": {
    "collapsed": false
   }
  },
  {
   "cell_type": "code",
   "execution_count": 100,
   "outputs": [
    {
     "name": "stdout",
     "output_type": "stream",
     "text": [
      "              precision    recall  f1-score   support\n",
      "\n",
      "       False       0.66      0.67      0.67      9166\n",
      "        True       0.89      0.88      0.88     26697\n",
      "\n",
      "    accuracy                           0.83     35863\n",
      "   macro avg       0.77      0.78      0.78     35863\n",
      "weighted avg       0.83      0.83      0.83     35863\n",
      "\n"
     ]
    }
   ],
   "source": [
    "print(classification_report((test[\"vader_diff\"] > thresh), (test[\"sentiment\"] == \"good\")))"
   ],
   "metadata": {
    "collapsed": false
   }
  },
  {
   "cell_type": "markdown",
   "source": [
    "Let's observe some errors that Vader made.\n",
    "1. Consider an observation where vader gave a difference score above 0.6 which is a good sentiment as per our chosen threshold, and it's originally labeled sentiment is bad.\n",
    "2. Consider another observation where vader gave a difference score of less than -0.6 which is a bad sentiment as per our chosen threshold, and it's originally labeled sentiment is good."
   ],
   "metadata": {
    "collapsed": false
   }
  },
  {
   "cell_type": "code",
   "execution_count": 123,
   "outputs": [
    {
     "data": {
      "text/plain": "'One Star love it!'"
     },
     "execution_count": 123,
     "metadata": {},
     "output_type": "execute_result"
    }
   ],
   "source": [
    "train[(train[\"vader_diff\"] > 0.5) & (train[\"sentiment\"] == \"bad\")][\"text\"].iloc[0]"
   ],
   "metadata": {
    "collapsed": false
   }
  },
  {
   "cell_type": "code",
   "execution_count": 124,
   "outputs": [
    {
     "data": {
      "text/plain": "{'neg': 0.0, 'neu': 0.4, 'pos': 0.6, 'compound': 0.6696}"
     },
     "execution_count": 124,
     "metadata": {},
     "output_type": "execute_result"
    }
   ],
   "source": [
    "analyzer.polarity_scores(_)"
   ],
   "metadata": {
    "collapsed": false
   }
  },
  {
   "cell_type": "code",
   "execution_count": 126,
   "outputs": [
    {
     "data": {
      "text/plain": "1"
     },
     "execution_count": 126,
     "metadata": {},
     "output_type": "execute_result"
    }
   ],
   "source": [
    "train[(train[\"vader_diff\"] > 0.5) & (train[\"sentiment\"] == \"bad\")][\"overall\"].iloc[0]"
   ],
   "metadata": {
    "collapsed": false
   }
  },
  {
   "cell_type": "markdown",
   "source": [
    "While the review text here says, love it, but the reviewer meant it sarcastically. Rating given to it, can support my view of the review."
   ],
   "metadata": {
    "collapsed": false
   }
  },
  {
   "cell_type": "code",
   "execution_count": 117,
   "outputs": [
    {
     "data": {
      "text/plain": "'Five Stars no problems'"
     },
     "execution_count": 117,
     "metadata": {},
     "output_type": "execute_result"
    }
   ],
   "source": [
    "train[(train[\"vader_diff\"] < -0.6) & (train[\"sentiment\"] == \"good\")][\"text\"].iloc[0]"
   ],
   "metadata": {
    "collapsed": false
   }
  },
  {
   "cell_type": "code",
   "execution_count": 118,
   "outputs": [
    {
     "data": {
      "text/plain": "{'neg': 0.71, 'neu': 0.29, 'pos': 0.0, 'compound': -0.5994}"
     },
     "execution_count": 118,
     "metadata": {},
     "output_type": "execute_result"
    }
   ],
   "source": [
    "analyzer.polarity_scores(_)"
   ],
   "metadata": {
    "collapsed": false
   }
  },
  {
   "cell_type": "code",
   "execution_count": 119,
   "outputs": [
    {
     "data": {
      "text/plain": "5"
     },
     "execution_count": 119,
     "metadata": {},
     "output_type": "execute_result"
    }
   ],
   "source": [
    "train[(train[\"vader_diff\"] < -0.6) & (train[\"sentiment\"] == \"good\")][\"overall\"].iloc[0]"
   ],
   "metadata": {
    "collapsed": false
   }
  },
  {
   "cell_type": "markdown",
   "source": [
    "Similarly, here the reviewer found no problems and gave five stars, but vader could find no and problem words which are negative in meaning independently, which has affected its interpretation."
   ],
   "metadata": {
    "collapsed": false
   }
  },
  {
   "cell_type": "markdown",
   "source": [
    "Although, we used our labeled data to analyze vader's performance. It does not need a training data, just give out sentiment scores. Which can be used in cases when there is no labeled data to analyze or build a better model fed with specific kind of data.\n",
    "\n",
    "Since, we have labeled data with us from Amazon, Let's try building a classifier model, and see if we can get better results than vader.\n"
   ],
   "metadata": {
    "collapsed": false
   }
  },
  {
   "cell_type": "markdown",
   "source": [
    "------------------\n",
    "## SGD Classifier"
   ],
   "metadata": {
    "collapsed": false
   }
  },
  {
   "cell_type": "markdown",
   "source": [
    "In a classification, the results may vary depending upon our approach of tokenization.\n",
    "Let's try different tokenization methods, and see which gives better results with our classifier."
   ],
   "metadata": {
    "collapsed": false
   }
  },
  {
   "cell_type": "markdown",
   "source": [
    "### Simple Spacy Tokenizer"
   ],
   "metadata": {
    "collapsed": false
   }
  },
  {
   "cell_type": "code",
   "execution_count": 129,
   "outputs": [],
   "source": [
    "from cytoolz import *\n",
    "\n",
    "import spacy"
   ],
   "metadata": {
    "collapsed": false
   }
  },
  {
   "cell_type": "code",
   "execution_count": 133,
   "outputs": [],
   "source": [
    "nlp = spacy.load(\n",
    "    \"en_core_web_sm\",\n",
    "    exclude=[\"tagger\", \"parser\", \"ner\", \"lemmatizer\", \"attribute_ruler\"],\n",
    ")\n",
    "\n",
    "\n",
    "def tokenize(text):\n",
    "    doc = nlp.tokenizer(str(text))\n",
    "    return [t.norm_ for t in doc if not (t.is_space or t.is_punct or t.like_num)]"
   ],
   "metadata": {
    "collapsed": false
   }
  },
  {
   "cell_type": "code",
   "execution_count": 134,
   "outputs": [
    {
     "data": {
      "text/plain": "  0%|          | 0/53793 [00:00<?, ?it/s]",
      "application/vnd.jupyter.widget-view+json": {
       "version_major": 2,
       "version_minor": 0,
       "model_id": "a99376dc2bd6484d9f6fafd713d6f646"
      }
     },
     "metadata": {},
     "output_type": "display_data"
    },
    {
     "data": {
      "text/plain": "  0%|          | 0/35863 [00:00<?, ?it/s]",
      "application/vnd.jupyter.widget-view+json": {
       "version_major": 2,
       "version_minor": 0,
       "model_id": "617652e67bbc4ee9970a658d5ed73d4b"
      }
     },
     "metadata": {},
     "output_type": "display_data"
    }
   ],
   "source": [
    "train[\"tokens1\"] = train[\"text\"].progress_apply(tokenize)\n",
    "test[\"tokens1\"] = test[\"text\"].progress_apply(tokenize)"
   ],
   "metadata": {
    "collapsed": false
   }
  },
  {
   "cell_type": "code",
   "execution_count": 137,
   "outputs": [],
   "source": [
    "from sklearn.feature_extraction.text import CountVectorizer, TfidfTransformer\n",
    "from sklearn.linear_model import SGDClassifier\n",
    "from sklearn.pipeline import make_pipeline"
   ],
   "metadata": {
    "collapsed": false
   }
  },
  {
   "cell_type": "code",
   "execution_count": 138,
   "outputs": [],
   "source": [
    "sgd_1 = make_pipeline(\n",
    "    CountVectorizer(analyzer=identity), TfidfTransformer(), SGDClassifier()\n",
    ")"
   ],
   "metadata": {
    "collapsed": false
   }
  },
  {
   "cell_type": "code",
   "execution_count": 139,
   "outputs": [
    {
     "name": "stdout",
     "output_type": "stream",
     "text": [
      "              precision    recall  f1-score   support\n",
      "\n",
      "         bad       0.84      0.78      0.81      9288\n",
      "        good       0.92      0.95      0.94     26575\n",
      "\n",
      "    accuracy                           0.91     35863\n",
      "   macro avg       0.88      0.86      0.87     35863\n",
      "weighted avg       0.90      0.91      0.90     35863\n",
      "\n"
     ]
    }
   ],
   "source": [
    "sgd_1.fit(train[\"tokens1\"], train[\"sentiment\"])\n",
    "pred_1 = sgd_1.predict(test[\"tokens1\"])\n",
    "print(classification_report(test[\"sentiment\"], pred_1))"
   ],
   "metadata": {
    "collapsed": false
   }
  },
  {
   "cell_type": "code",
   "execution_count": 140,
   "outputs": [
    {
     "data": {
      "text/plain": "0.9055293756796698"
     },
     "execution_count": 140,
     "metadata": {},
     "output_type": "execute_result"
    }
   ],
   "source": [
    "accuracy_score(test[\"sentiment\"], pred_1)"
   ],
   "metadata": {
    "collapsed": false
   }
  },
  {
   "cell_type": "code",
   "execution_count": 141,
   "outputs": [],
   "source": [
    "error_1 = test[pred_1 != test[\"sentiment\"]]"
   ],
   "metadata": {
    "collapsed": false
   }
  },
  {
   "cell_type": "code",
   "execution_count": 142,
   "outputs": [
    {
     "data": {
      "text/plain": "\"Watchtime ... can't keep time You have to wait 3-4 months , and even then it's out of date\""
     },
     "execution_count": 142,
     "metadata": {},
     "output_type": "execute_result"
    }
   ],
   "source": [
    "error_1[error_1[\"sentiment\"] == \"bad\"][\"text\"].iloc[0]"
   ],
   "metadata": {
    "collapsed": false
   }
  },
  {
   "cell_type": "code",
   "execution_count": 145,
   "outputs": [
    {
     "data": {
      "text/plain": "'Four Stars Received my first one, not much in it, but not sure what I really expected lol'"
     },
     "execution_count": 145,
     "metadata": {},
     "output_type": "execute_result"
    }
   ],
   "source": [
    "error_1[error_1[\"sentiment\"] == \"good\"][\"text\"].iloc[1]"
   ],
   "metadata": {
    "collapsed": false
   }
  },
  {
   "cell_type": "markdown",
   "source": [
    "1. Accuracy of our classifier has exceeded both approaches in Vader.\n",
    "2. First error we observed is where sentiment is bad and our classifier predicted as good.\n",
    "3. Second error we observed is where sentiment is good and our classifier predicted as bad.\n",
    "4. Our classifier is unable to go beyond just words.\n",
    "5. So, let's try with another approach, where tokenize using multi-word embeddings, and check if that makes a difference."
   ],
   "metadata": {
    "collapsed": false
   }
  },
  {
   "cell_type": "markdown",
   "source": [
    "### Syntactically augmented classification\n",
    "The easiest way to add syntactic information to SGDClassifier is by augmenting the words in the text. That is, if we want to indicate that word is in the scope of negation we'll prefix the word with `NOT:`"
   ],
   "metadata": {
    "collapsed": false
   }
  },
  {
   "cell_type": "code",
   "execution_count": 165,
   "outputs": [],
   "source": [
    "from spacy import displacy\n",
    "from spacy.tokens import DocBin\n",
    "\n",
    "nlp2 = spacy.load(\"en_core_web_lg\", exclude=[\"ner\"])"
   ],
   "metadata": {
    "collapsed": false
   }
  },
  {
   "cell_type": "code",
   "execution_count": 168,
   "outputs": [
    {
     "data": {
      "text/plain": "  0%|          | 0/89656 [00:00<?, ?it/s]",
      "application/vnd.jupyter.widget-view+json": {
       "version_major": 2,
       "version_minor": 0,
       "model_id": "45a437b9b7284b43a19e5633134305e6"
      }
     },
     "metadata": {},
     "output_type": "display_data"
    }
   ],
   "source": [
    "docs = DocBin(docs=nlp2.pipe(tqdm(df['text']), n_process=4))\n",
    "docs.to_disk('parsed.docbin')"
   ],
   "metadata": {
    "collapsed": false
   }
  },
  {
   "cell_type": "code",
   "execution_count": 169,
   "outputs": [],
   "source": [
    "docs = DocBin().from_disk(\"parsed.docbin\")\n",
    "df[\"doc\"] = list(docs.get_docs(nlp2.vocab))"
   ],
   "metadata": {
    "collapsed": false
   }
  },
  {
   "cell_type": "code",
   "execution_count": 170,
   "outputs": [],
   "source": [
    "train, test = train_test_split(\n",
    "    df, test_size=0.4, stratify=df[\"sentiment\"], random_state=619\n",
    ")"
   ],
   "metadata": {
    "collapsed": false
   }
  },
  {
   "cell_type": "code",
   "execution_count": 171,
   "outputs": [],
   "source": [
    "from spacy.tokens import Token\n",
    "\n",
    "Token.set_extension(\"neg\", default=False, force=True)"
   ],
   "metadata": {
    "collapsed": false
   }
  },
  {
   "cell_type": "code",
   "execution_count": 172,
   "outputs": [],
   "source": [
    "def simple_negation(doc):\n",
    "    for tok in doc:\n",
    "        tok._.neg = False\n",
    "    for tok in doc:\n",
    "        if tok.dep_ == \"neg\":\n",
    "            tok.head._.neg = True\n",
    "    return doc\n",
    "\n",
    "\n",
    "def add_not(tok):\n",
    "    if tok._.neg:\n",
    "        return \"NOT:\" + tok.norm_\n",
    "    else:\n",
    "        return tok.norm_\n",
    "\n",
    "\n",
    "def tokenize_not(negator):\n",
    "    def tokenizer(doc):\n",
    "        return [add_not(t) for t in negator(doc)]\n",
    "\n",
    "    return tokenizer"
   ],
   "metadata": {
    "collapsed": false
   }
  },
  {
   "cell_type": "code",
   "execution_count": 183,
   "outputs": [
    {
     "data": {
      "text/plain": "<IPython.core.display.HTML object>",
      "text/html": "<span class=\"tex2jax_ignore\"><svg xmlns=\"http://www.w3.org/2000/svg\" xmlns:xlink=\"http://www.w3.org/1999/xlink\" xml:lang=\"en\" id=\"04acd6f452754ad99cfbf78e9036a410-0\" class=\"displacy\" width=\"1625\" height=\"487.0\" direction=\"ltr\" style=\"max-width: none; height: 487.0px; color: #000000; background: #ffffff; font-family: Arial; direction: ltr\">\n<text class=\"displacy-token\" fill=\"currentColor\" text-anchor=\"middle\" y=\"397.0\">\n    <tspan class=\"displacy-word\" fill=\"currentColor\" x=\"50\">This</tspan>\n    <tspan class=\"displacy-tag\" dy=\"2em\" fill=\"currentColor\" x=\"50\">DET</tspan>\n</text>\n\n<text class=\"displacy-token\" fill=\"currentColor\" text-anchor=\"middle\" y=\"397.0\">\n    <tspan class=\"displacy-word\" fill=\"currentColor\" x=\"225\">magazine</tspan>\n    <tspan class=\"displacy-tag\" dy=\"2em\" fill=\"currentColor\" x=\"225\">NOUN</tspan>\n</text>\n\n<text class=\"displacy-token\" fill=\"currentColor\" text-anchor=\"middle\" y=\"397.0\">\n    <tspan class=\"displacy-word\" fill=\"currentColor\" x=\"400\">is</tspan>\n    <tspan class=\"displacy-tag\" dy=\"2em\" fill=\"currentColor\" x=\"400\">AUX</tspan>\n</text>\n\n<text class=\"displacy-token\" fill=\"currentColor\" text-anchor=\"middle\" y=\"397.0\">\n    <tspan class=\"displacy-word\" fill=\"currentColor\" x=\"575\">not</tspan>\n    <tspan class=\"displacy-tag\" dy=\"2em\" fill=\"currentColor\" x=\"575\">PART</tspan>\n</text>\n\n<text class=\"displacy-token\" fill=\"currentColor\" text-anchor=\"middle\" y=\"397.0\">\n    <tspan class=\"displacy-word\" fill=\"currentColor\" x=\"750\">perfect,</tspan>\n    <tspan class=\"displacy-tag\" dy=\"2em\" fill=\"currentColor\" x=\"750\">ADJ</tspan>\n</text>\n\n<text class=\"displacy-token\" fill=\"currentColor\" text-anchor=\"middle\" y=\"397.0\">\n    <tspan class=\"displacy-word\" fill=\"currentColor\" x=\"925\">also</tspan>\n    <tspan class=\"displacy-tag\" dy=\"2em\" fill=\"currentColor\" x=\"925\">ADV</tspan>\n</text>\n\n<text class=\"displacy-token\" fill=\"currentColor\" text-anchor=\"middle\" y=\"397.0\">\n    <tspan class=\"displacy-word\" fill=\"currentColor\" x=\"1100\">not</tspan>\n    <tspan class=\"displacy-tag\" dy=\"2em\" fill=\"currentColor\" x=\"1100\">PART</tspan>\n</text>\n\n<text class=\"displacy-token\" fill=\"currentColor\" text-anchor=\"middle\" y=\"397.0\">\n    <tspan class=\"displacy-word\" fill=\"currentColor\" x=\"1275\">bad</tspan>\n    <tspan class=\"displacy-tag\" dy=\"2em\" fill=\"currentColor\" x=\"1275\">ADJ</tspan>\n</text>\n\n<text class=\"displacy-token\" fill=\"currentColor\" text-anchor=\"middle\" y=\"397.0\">\n    <tspan class=\"displacy-word\" fill=\"currentColor\" x=\"1450\">entirely</tspan>\n    <tspan class=\"displacy-tag\" dy=\"2em\" fill=\"currentColor\" x=\"1450\">ADV</tspan>\n</text>\n\n<g class=\"displacy-arrow\">\n    <path class=\"displacy-arc\" id=\"arrow-04acd6f452754ad99cfbf78e9036a410-0-0\" stroke-width=\"2px\" d=\"M70,352.0 C70,264.5 210.0,264.5 210.0,352.0\" fill=\"none\" stroke=\"currentColor\"/>\n    <text dy=\"1.25em\" style=\"font-size: 0.8em; letter-spacing: 1px\">\n        <textPath xlink:href=\"#arrow-04acd6f452754ad99cfbf78e9036a410-0-0\" class=\"displacy-label\" startOffset=\"50%\" side=\"left\" fill=\"currentColor\" text-anchor=\"middle\">det</textPath>\n    </text>\n    <path class=\"displacy-arrowhead\" d=\"M70,354.0 L62,342.0 78,342.0\" fill=\"currentColor\"/>\n</g>\n\n<g class=\"displacy-arrow\">\n    <path class=\"displacy-arc\" id=\"arrow-04acd6f452754ad99cfbf78e9036a410-0-1\" stroke-width=\"2px\" d=\"M245,352.0 C245,264.5 385.0,264.5 385.0,352.0\" fill=\"none\" stroke=\"currentColor\"/>\n    <text dy=\"1.25em\" style=\"font-size: 0.8em; letter-spacing: 1px\">\n        <textPath xlink:href=\"#arrow-04acd6f452754ad99cfbf78e9036a410-0-1\" class=\"displacy-label\" startOffset=\"50%\" side=\"left\" fill=\"currentColor\" text-anchor=\"middle\">nsubj</textPath>\n    </text>\n    <path class=\"displacy-arrowhead\" d=\"M245,354.0 L237,342.0 253,342.0\" fill=\"currentColor\"/>\n</g>\n\n<g class=\"displacy-arrow\">\n    <path class=\"displacy-arc\" id=\"arrow-04acd6f452754ad99cfbf78e9036a410-0-2\" stroke-width=\"2px\" d=\"M420,352.0 C420,264.5 560.0,264.5 560.0,352.0\" fill=\"none\" stroke=\"currentColor\"/>\n    <text dy=\"1.25em\" style=\"font-size: 0.8em; letter-spacing: 1px\">\n        <textPath xlink:href=\"#arrow-04acd6f452754ad99cfbf78e9036a410-0-2\" class=\"displacy-label\" startOffset=\"50%\" side=\"left\" fill=\"currentColor\" text-anchor=\"middle\">neg</textPath>\n    </text>\n    <path class=\"displacy-arrowhead\" d=\"M560.0,354.0 L568.0,342.0 552.0,342.0\" fill=\"currentColor\"/>\n</g>\n\n<g class=\"displacy-arrow\">\n    <path class=\"displacy-arc\" id=\"arrow-04acd6f452754ad99cfbf78e9036a410-0-3\" stroke-width=\"2px\" d=\"M420,352.0 C420,177.0 740.0,177.0 740.0,352.0\" fill=\"none\" stroke=\"currentColor\"/>\n    <text dy=\"1.25em\" style=\"font-size: 0.8em; letter-spacing: 1px\">\n        <textPath xlink:href=\"#arrow-04acd6f452754ad99cfbf78e9036a410-0-3\" class=\"displacy-label\" startOffset=\"50%\" side=\"left\" fill=\"currentColor\" text-anchor=\"middle\">acomp</textPath>\n    </text>\n    <path class=\"displacy-arrowhead\" d=\"M740.0,354.0 L748.0,342.0 732.0,342.0\" fill=\"currentColor\"/>\n</g>\n\n<g class=\"displacy-arrow\">\n    <path class=\"displacy-arc\" id=\"arrow-04acd6f452754ad99cfbf78e9036a410-0-4\" stroke-width=\"2px\" d=\"M945,352.0 C945,177.0 1265.0,177.0 1265.0,352.0\" fill=\"none\" stroke=\"currentColor\"/>\n    <text dy=\"1.25em\" style=\"font-size: 0.8em; letter-spacing: 1px\">\n        <textPath xlink:href=\"#arrow-04acd6f452754ad99cfbf78e9036a410-0-4\" class=\"displacy-label\" startOffset=\"50%\" side=\"left\" fill=\"currentColor\" text-anchor=\"middle\">advmod</textPath>\n    </text>\n    <path class=\"displacy-arrowhead\" d=\"M945,354.0 L937,342.0 953,342.0\" fill=\"currentColor\"/>\n</g>\n\n<g class=\"displacy-arrow\">\n    <path class=\"displacy-arc\" id=\"arrow-04acd6f452754ad99cfbf78e9036a410-0-5\" stroke-width=\"2px\" d=\"M1120,352.0 C1120,264.5 1260.0,264.5 1260.0,352.0\" fill=\"none\" stroke=\"currentColor\"/>\n    <text dy=\"1.25em\" style=\"font-size: 0.8em; letter-spacing: 1px\">\n        <textPath xlink:href=\"#arrow-04acd6f452754ad99cfbf78e9036a410-0-5\" class=\"displacy-label\" startOffset=\"50%\" side=\"left\" fill=\"currentColor\" text-anchor=\"middle\">neg</textPath>\n    </text>\n    <path class=\"displacy-arrowhead\" d=\"M1120,354.0 L1112,342.0 1128,342.0\" fill=\"currentColor\"/>\n</g>\n\n<g class=\"displacy-arrow\">\n    <path class=\"displacy-arc\" id=\"arrow-04acd6f452754ad99cfbf78e9036a410-0-6\" stroke-width=\"2px\" d=\"M420,352.0 C420,89.5 1270.0,89.5 1270.0,352.0\" fill=\"none\" stroke=\"currentColor\"/>\n    <text dy=\"1.25em\" style=\"font-size: 0.8em; letter-spacing: 1px\">\n        <textPath xlink:href=\"#arrow-04acd6f452754ad99cfbf78e9036a410-0-6\" class=\"displacy-label\" startOffset=\"50%\" side=\"left\" fill=\"currentColor\" text-anchor=\"middle\">acomp</textPath>\n    </text>\n    <path class=\"displacy-arrowhead\" d=\"M1270.0,354.0 L1278.0,342.0 1262.0,342.0\" fill=\"currentColor\"/>\n</g>\n\n<g class=\"displacy-arrow\">\n    <path class=\"displacy-arc\" id=\"arrow-04acd6f452754ad99cfbf78e9036a410-0-7\" stroke-width=\"2px\" d=\"M420,352.0 C420,2.0 1450.0,2.0 1450.0,352.0\" fill=\"none\" stroke=\"currentColor\"/>\n    <text dy=\"1.25em\" style=\"font-size: 0.8em; letter-spacing: 1px\">\n        <textPath xlink:href=\"#arrow-04acd6f452754ad99cfbf78e9036a410-0-7\" class=\"displacy-label\" startOffset=\"50%\" side=\"left\" fill=\"currentColor\" text-anchor=\"middle\">advmod</textPath>\n    </text>\n    <path class=\"displacy-arrowhead\" d=\"M1450.0,354.0 L1458.0,342.0 1442.0,342.0\" fill=\"currentColor\"/>\n</g>\n</svg></span>"
     },
     "metadata": {},
     "output_type": "display_data"
    }
   ],
   "source": [
    "sample = nlp2(\"This magazine is not perfect, also not bad entirely\")\n",
    "displacy.render(sample)"
   ],
   "metadata": {
    "collapsed": false
   }
  },
  {
   "cell_type": "code",
   "execution_count": 185,
   "outputs": [
    {
     "data": {
      "text/plain": "['this',\n 'magazine',\n 'NOT:is',\n 'not',\n 'perfect',\n ',',\n 'also',\n 'not',\n 'NOT:bad',\n 'entirely']"
     },
     "execution_count": 185,
     "metadata": {},
     "output_type": "execute_result"
    }
   ],
   "source": [
    "sampler = tokenize_not(simple_negation)\n",
    "sampler(sample)"
   ],
   "metadata": {
    "collapsed": false
   }
  },
  {
   "cell_type": "code",
   "execution_count": 175,
   "outputs": [
    {
     "data": {
      "text/plain": "0.9203636059448457"
     },
     "execution_count": 175,
     "metadata": {},
     "output_type": "execute_result"
    }
   ],
   "source": [
    "m1 = make_pipeline(\n",
    "    CountVectorizer(\n",
    "        preprocessor=identity,\n",
    "        tokenizer=tokenize_not(simple_negation),\n",
    "        token_pattern=None,\n",
    "    ),\n",
    "    TfidfTransformer(),\n",
    "    SGDClassifier(random_state=42),\n",
    ")\n",
    "m1.fit(train[\"doc\"], train[\"sentiment\"])\n",
    "m1.score(test[\"doc\"], test[\"sentiment\"])"
   ],
   "metadata": {
    "collapsed": false
   }
  },
  {
   "cell_type": "code",
   "execution_count": 176,
   "outputs": [
    {
     "name": "stdout",
     "output_type": "stream",
     "text": [
      "              precision    recall  f1-score   support\n",
      "\n",
      "         bad       0.87      0.81      0.84      9288\n",
      "        good       0.94      0.96      0.95     26575\n",
      "\n",
      "    accuracy                           0.92     35863\n",
      "   macro avg       0.90      0.89      0.89     35863\n",
      "weighted avg       0.92      0.92      0.92     35863\n",
      "\n"
     ]
    }
   ],
   "source": [
    "m1_pred = m1.predict(test[\"doc\"])\n",
    "print(classification_report(test[\"sentiment\"], m1_pred))"
   ],
   "metadata": {
    "collapsed": false
   }
  },
  {
   "cell_type": "markdown",
   "source": [
    "As our previous accuracy was already at 90 percent, Now after using negation, our accuracy bumped to 92 percent which is quite a good improvement."
   ],
   "metadata": {
    "collapsed": false
   }
  },
  {
   "cell_type": "code",
   "execution_count": 177,
   "outputs": [],
   "source": [
    "def print_top_feats(M, k=0):\n",
    "    V = M.named_steps[\"countvectorizer\"].get_feature_names_out()\n",
    "    coef = M.named_steps[\"sgdclassifier\"].coef_[0]\n",
    "    order = coef.argsort()\n",
    "    for w1, w2 in zip(order[-k:][::-1], order[:k]):\n",
    "        print(f\"{V[w1]:20s} {coef[w1]:7.3f} | {V[w2]:20s} {coef[w2]:7.3f}\")"
   ],
   "metadata": {
    "collapsed": false
   }
  },
  {
   "cell_type": "code",
   "execution_count": 178,
   "outputs": [
    {
     "name": "stdout",
     "output_type": "stream",
     "text": [
      "five                   5.348 | not                   -5.425\n",
      "great                  4.766 | three                 -5.062\n",
      "love                   4.440 | star                  -3.636\n",
      "four                   4.415 | disappointed          -3.235\n",
      "best                   3.530 | two                   -2.724\n",
      "excellent              2.999 | disappointing         -2.609\n",
      "always                 2.644 | canceled              -2.392\n",
      "easy                   2.598 | no                    -2.319\n",
      "enjoy                  2.518 | boring                -2.302\n",
      "good                   2.413 | poor                  -2.272\n",
      "favorite               2.333 | nothing               -2.221\n",
      "well                   2.162 | horrible              -2.210\n",
      "happy                  2.083 | waste                 -2.204\n",
      "loves                  2.060 | cancel                -2.037\n",
      "awesome                1.909 | never                 -1.955\n",
      "NOT:beat               1.874 | ads                   -1.928\n",
      "perfect                1.822 | same                  -1.916\n",
      "informative            1.662 | NOT:worth             -1.874\n",
      "pleased                1.649 | terrible              -1.873\n",
      "years                  1.620 | ?                     -1.862\n",
      "forward                1.580 | canceling             -1.768\n",
      "recommend              1.574 | ok                    -1.753\n",
      "read                   1.556 | okay                  -1.722\n",
      "every                  1.482 | NOT:received          -1.709\n",
      "wonderful              1.473 | advertisements        -1.695\n",
      "than                   1.464 | paid                  -1.688\n",
      "NOT:wait               1.430 | bad                   -1.662\n",
      "enjoyed                1.416 | advertisement         -1.650\n",
      "NOT:love               1.404 | used                  -1.644\n",
      "NOT:go                 1.392 | gone                  -1.639\n",
      "fun                    1.350 | months                -1.631\n",
      "world                  1.332 | worst                 -1.631\n",
      "each                   1.325 | disappointment        -1.610\n",
      "nice                   1.323 | once                  -1.593\n",
      "helps                  1.320 | mostly                -1.586\n",
      "and                    1.280 | garbage               -1.580\n",
      "highly                 1.254 | instead               -1.565\n",
      "gives                  1.225 | seems                 -1.564\n",
      "price                  1.223 | NOT:renewing          -1.563\n",
      "fantastic              1.219 | was                   -1.526\n",
      "beautiful              1.188 | frustrating           -1.502\n",
      "amazing                1.187 | trash                 -1.489\n",
      "around                 1.144 | advertising           -1.487\n",
      "helpful                1.143 | sad                   -1.466\n",
      "keep                   1.131 | NOT:renew             -1.435\n",
      "deal                   1.123 | content               -1.432\n",
      "must                   1.113 | half                  -1.413\n",
      "magazines              1.111 | crap                  -1.402\n",
      "convenient             1.109 | worse                 -1.380\n",
      "reading                1.088 | meh                   -1.363\n"
     ]
    }
   ],
   "source": [
    "print_top_feats(m1, 50)"
   ],
   "metadata": {
    "collapsed": false
   }
  },
  {
   "cell_type": "markdown",
   "source": [
    "\"renewing\" subscription for the magazine is a good thing, but when there is not before, and combined to renew, it is not a good thing for us. Hence, our approach to add not has worked, and is shown in NOT:renew and NOT:renewing with negative coefficients.\n"
   ],
   "metadata": {
    "collapsed": false
   }
  },
  {
   "cell_type": "markdown",
   "source": [
    "**Next steps:** once we've identified negated words, we'll spread the negative marker onto dependent words that come to the right of the negate word. Not all words to the right, though. Just ones that are dependents of the negated word."
   ],
   "metadata": {
    "collapsed": false
   }
  },
  {
   "cell_type": "code",
   "execution_count": 179,
   "outputs": [],
   "source": [
    "def negify(tok):\n",
    "    tok._.neg = True\n",
    "    for child in tok.children:\n",
    "        negify(child)\n",
    "\n",
    "\n",
    "def negate_comps(doc):\n",
    "    for tok in doc:\n",
    "        tok._.neg = False\n",
    "    for tok in doc:\n",
    "        if tok.dep_ == \"neg\":\n",
    "            tok.head._.neg = True\n",
    "            for right_tok in tok.head.rights:\n",
    "                if right_tok.dep_ in [\"acomp\", \"advmod\", \"dobj\", \"prep\", \"xcomp\"]:\n",
    "                    negify(right_tok)\n",
    "    return doc"
   ],
   "metadata": {
    "collapsed": false
   }
  },
  {
   "cell_type": "code",
   "execution_count": 187,
   "outputs": [
    {
     "data": {
      "text/plain": "['this',\n 'magazine',\n 'NOT:is',\n 'not',\n 'NOT:perfect',\n 'NOT:,',\n 'NOT:also',\n 'NOT:not',\n 'NOT:bad',\n 'NOT:entirely']"
     },
     "execution_count": 187,
     "metadata": {},
     "output_type": "execute_result"
    }
   ],
   "source": [
    "sampler = tokenize_not(negate_comps)\n",
    "sampler(sample)"
   ],
   "metadata": {
    "collapsed": false
   }
  },
  {
   "cell_type": "code",
   "execution_count": 188,
   "outputs": [
    {
     "data": {
      "text/plain": "0.9221481749993029"
     },
     "execution_count": 188,
     "metadata": {},
     "output_type": "execute_result"
    }
   ],
   "source": [
    "m2 = make_pipeline(\n",
    "    CountVectorizer(\n",
    "        preprocessor=identity, tokenizer=tokenize_not(negate_comps), token_pattern=None\n",
    "    ),\n",
    "    TfidfTransformer(),\n",
    "    SGDClassifier(random_state=42),\n",
    ")\n",
    "\n",
    "m2.fit(train[\"doc\"], train[\"sentiment\"])\n",
    "m2.score(test[\"doc\"], test[\"sentiment\"])"
   ],
   "metadata": {
    "collapsed": false
   }
  },
  {
   "cell_type": "code",
   "execution_count": 189,
   "outputs": [
    {
     "name": "stdout",
     "output_type": "stream",
     "text": [
      "              precision    recall  f1-score   support\n",
      "\n",
      "         bad       0.87      0.82      0.85      9288\n",
      "        good       0.94      0.96      0.95     26575\n",
      "\n",
      "    accuracy                           0.92     35863\n",
      "   macro avg       0.90      0.89      0.90     35863\n",
      "weighted avg       0.92      0.92      0.92     35863\n",
      "\n"
     ]
    }
   ],
   "source": [
    "m2_pred = m2.predict(test[\"doc\"])\n",
    "print(classification_report(test[\"sentiment\"], m2_pred))"
   ],
   "metadata": {
    "collapsed": false
   }
  },
  {
   "cell_type": "code",
   "execution_count": 190,
   "outputs": [
    {
     "name": "stdout",
     "output_type": "stream",
     "text": [
      "five                   5.324 | not                   -5.128\n",
      "great                  4.725 | three                 -5.103\n",
      "four                   4.536 | star                  -3.710\n",
      "love                   4.395 | disappointed          -3.447\n",
      "best                   3.522 | two                   -2.809\n",
      "excellent              3.027 | disappointing         -2.502\n",
      "easy                   2.681 | canceled              -2.497\n",
      "always                 2.654 | boring                -2.372\n",
      "good                   2.484 | no                    -2.331\n",
      "enjoy                  2.452 | poor                  -2.239\n",
      "favorite               2.240 | horrible              -2.154\n",
      "well                   2.155 | waste                 -2.154\n",
      "happy                  2.115 | nothing               -2.087\n",
      "NOT:beat               1.997 | NOT:worth             -2.079\n",
      "loves                  1.988 | cancel                -2.044\n",
      "awesome                1.935 | ads                   -2.029\n",
      "perfect                1.818 | same                  -1.961\n",
      "informative            1.703 | terrible              -1.934\n",
      "NOT:love               1.684 | bad                   -1.856\n",
      "pleased                1.629 | NOT:received          -1.842\n",
      "read                   1.619 | ?                     -1.841\n",
      "recommend              1.502 | advertisements        -1.832\n",
      "forward                1.499 | okay                  -1.757\n",
      "years                  1.469 | never                 -1.748\n",
      "wonderful              1.469 | paid                  -1.724\n",
      "NOT:wait               1.466 | canceling             -1.713\n",
      "fun                    1.449 | ok                    -1.702\n",
      "than                   1.447 | months                -1.699\n",
      "nice                   1.427 | advertisement         -1.671\n",
      "every                  1.405 | garbage               -1.626\n",
      "world                  1.368 | NOT:renewing          -1.624\n",
      "each                   1.329 | once                  -1.617\n",
      "fantastic              1.295 | gone                  -1.607\n",
      "enjoyed                1.287 | used                  -1.596\n",
      "worth                  1.272 | worst                 -1.567\n",
      "helps                  1.246 | NOT:renew             -1.556\n",
      "and                    1.216 | disappointment        -1.545\n",
      "highly                 1.214 | mostly                -1.539\n",
      "must                   1.208 | advertising           -1.536\n",
      "deal                   1.180 | seems                 -1.536\n",
      "reading                1.178 | instead               -1.533\n",
      "NOT:go                 1.175 | was                   -1.528\n",
      "NOT:miss               1.161 | frustrating           -1.489\n",
      "beautiful              1.120 | too                   -1.472\n",
      "price                  1.120 | trash                 -1.465\n",
      "gives                  1.114 | would                 -1.447\n",
      "amazing                1.114 | be                    -1.424\n",
      "keep                   1.108 | meh                   -1.407\n",
      "interesting            1.107 | crap                  -1.392\n",
      "topics                 1.089 | content               -1.381\n"
     ]
    }
   ],
   "source": [
    "print_top_feats(m2, 50)"
   ],
   "metadata": {
    "collapsed": false
   }
  },
  {
   "cell_type": "markdown",
   "source": [
    "Not a lot of improvement, as our model was already performing better. But it's still good thing, as the rise is there atleast by 0.002"
   ],
   "metadata": {
    "collapsed": false
   }
  },
  {
   "cell_type": "markdown",
   "source": [
    "Next, we'll combine heads with their modifiers"
   ],
   "metadata": {
    "collapsed": false
   }
  },
  {
   "cell_type": "code",
   "execution_count": 191,
   "outputs": [],
   "source": [
    "def mod_tokenizer(doc):\n",
    "    doc = negate_comps(doc)\n",
    "    toks = [add_not(tok) for tok in doc]\n",
    "    toks = toks + [\n",
    "        add_not(t.head) + \"_\" + add_not(t) for t in doc if t.dep_ in [\"amod\", \"advmod\"]\n",
    "    ]\n",
    "    return toks"
   ],
   "metadata": {
    "collapsed": false
   }
  },
  {
   "cell_type": "code",
   "execution_count": 192,
   "outputs": [
    {
     "data": {
      "text/plain": "['this',\n 'magazine',\n 'NOT:is',\n 'not',\n 'NOT:perfect',\n 'NOT:,',\n 'NOT:also',\n 'NOT:not',\n 'NOT:bad',\n 'NOT:entirely',\n 'NOT:bad_NOT:also',\n 'NOT:is_NOT:entirely']"
     },
     "execution_count": 192,
     "metadata": {},
     "output_type": "execute_result"
    }
   ],
   "source": [
    "mod_tokenizer(sample)"
   ],
   "metadata": {
    "collapsed": false
   }
  },
  {
   "cell_type": "code",
   "execution_count": 193,
   "outputs": [
    {
     "data": {
      "text/plain": "0.9236539051390013"
     },
     "execution_count": 193,
     "metadata": {},
     "output_type": "execute_result"
    }
   ],
   "source": [
    "m3 = make_pipeline(\n",
    "    CountVectorizer(preprocessor=identity, tokenizer=mod_tokenizer, token_pattern=None),\n",
    "    TfidfTransformer(),\n",
    "    SGDClassifier(),\n",
    ")\n",
    "m3.fit(train[\"doc\"], train[\"sentiment\"])\n",
    "m3.score(test[\"doc\"], test[\"sentiment\"])"
   ],
   "metadata": {
    "collapsed": false
   }
  },
  {
   "cell_type": "code",
   "execution_count": 194,
   "outputs": [
    {
     "name": "stdout",
     "output_type": "stream",
     "text": [
      "              precision    recall  f1-score   support\n",
      "\n",
      "         bad       0.87      0.83      0.85      9288\n",
      "        good       0.94      0.96      0.95     26575\n",
      "\n",
      "    accuracy                           0.92     35863\n",
      "   macro avg       0.91      0.89      0.90     35863\n",
      "weighted avg       0.92      0.92      0.92     35863\n",
      "\n"
     ]
    }
   ],
   "source": [
    "m3_pred = m3.predict(test[\"doc\"])\n",
    "print(classification_report(test[\"sentiment\"], m3_pred))"
   ],
   "metadata": {
    "collapsed": false
   }
  },
  {
   "cell_type": "code",
   "execution_count": 195,
   "outputs": [
    {
     "name": "stdout",
     "output_type": "stream",
     "text": [
      "five                   5.514 | three                 -5.613\n",
      "four                   4.694 | not                   -5.606\n",
      "great                  4.642 | star                  -4.026\n",
      "love                   4.631 | disappointed          -3.411\n",
      "best                   3.553 | two                   -3.049\n",
      "excellent              3.047 | no                    -2.471\n",
      "always                 2.722 | boring                -2.455\n",
      "easy                   2.630 | canceled              -2.455\n",
      "enjoy                  2.493 | disappointing         -2.307\n",
      "good                   2.303 | poor                  -2.293\n",
      "favorite               2.182 | nothing               -2.197\n",
      "well                   2.126 | bad                   -2.189\n",
      "loves                  2.047 | horrible              -2.180\n",
      "happy                  2.013 | waste                 -2.138\n",
      "NOT:beat               1.969 | cancel                -2.137\n",
      "awesome                1.900 | ads                   -2.112\n",
      "perfect                1.812 | NOT:worth             -2.072\n",
      "read                   1.723 | same                  -2.045\n",
      "informative            1.621 | ?                     -1.956\n",
      "NOT:love               1.579 | terrible              -1.882\n",
      "nice                   1.565 | never                 -1.803\n",
      "recommend              1.543 | advertisements        -1.791\n",
      "fun                    1.525 | okay                  -1.791\n",
      "every                  1.521 | NOT:received          -1.787\n",
      "years                  1.474 | months                -1.777\n",
      "than                   1.473 | paid                  -1.768\n",
      "NOT:wait               1.468 | ok                    -1.753\n",
      "pleased                1.445 | used                  -1.726\n",
      "wonderful              1.405 | advertisement         -1.712\n",
      "worth                  1.337 | was                   -1.706\n",
      "and                    1.334 | instead               -1.694\n",
      "world                  1.331 | canceling             -1.689\n",
      "enjoyed                1.309 | be                    -1.643\n",
      "each                   1.302 | NOT:renew             -1.617\n",
      "reading                1.264 | advertising           -1.613\n",
      "helps                  1.251 | would                 -1.600\n",
      "fantastic              1.235 | worst                 -1.594\n",
      "can                    1.231 | NOT:renewing          -1.593\n",
      "deal                   1.217 | gone                  -1.573\n",
      "NOT:miss               1.183 | once                  -1.552\n",
      "must                   1.173 | seems                 -1.543\n",
      "you                    1.168 | mostly                -1.542\n",
      "NOT:go                 1.151 | content               -1.539\n",
      "good_very              1.139 | disappointment        -1.517\n",
      "topics                 1.137 | garbage               -1.514\n",
      "forward                1.133 | waiting_still         -1.471\n",
      "keep                   1.123 | trash                 -1.450\n",
      "beautiful              1.109 | crap                  -1.415\n",
      "price                  1.108 | have_yet              -1.410\n",
      "she                    1.091 | after                 -1.394\n"
     ]
    }
   ],
   "source": [
    "print_top_feats(m3, 50)"
   ],
   "metadata": {
    "collapsed": false
   }
  },
  {
   "cell_type": "markdown",
   "source": [
    "Not a lot of improvement again, a rise is a still a rise, meaning, we are on right track.\n",
    "As we reached 92 percent accuracy, and room for improvement is very minimal at this stage, let's stop here and analyze where our model went wrong in predictions"
   ],
   "metadata": {
    "collapsed": false
   }
  },
  {
   "cell_type": "code",
   "execution_count": 196,
   "outputs": [],
   "source": [
    "error = test[m3_pred != test[\"sentiment\"]]"
   ],
   "metadata": {
    "collapsed": false
   }
  },
  {
   "cell_type": "code",
   "execution_count": 200,
   "outputs": [
    {
     "data": {
      "text/plain": "'Three Stars I think it is a great entertaining magazine for boys. They usually like weird but true articles.'"
     },
     "execution_count": 200,
     "metadata": {},
     "output_type": "execute_result"
    }
   ],
   "source": [
    "error[error[\"sentiment\"] == \"bad\"][\"text\"].iloc[1]"
   ],
   "metadata": {
    "collapsed": false
   }
  },
  {
   "cell_type": "markdown",
   "source": [
    "This is an indirect review. The review seems positive, but it is not. Reviewer sentiment is bad here, but the model predicted good according to the text. Model obviously cannot read between the lines as a human could. Reviewer meant that this magazine is not for him/her."
   ],
   "metadata": {
    "collapsed": false
   }
  },
  {
   "cell_type": "code",
   "execution_count": 199,
   "outputs": [
    {
     "data": {
      "text/plain": "\"Good, but could be better I'm not sure that the magazine is as good as it was many years ago.  All things change and so has Consumer Reports.  The articles seem a bit short, more information would usually be helpful.  Maybe that additional content would be available in the online version, which I haven't tried yet.  Still, the magazine is a great place to get reviews that aren't influenced by business.\""
     },
     "execution_count": 199,
     "metadata": {},
     "output_type": "execute_result"
    }
   ],
   "source": [
    "error[error[\"sentiment\"] == \"good\"][\"text\"].iloc[1]"
   ],
   "metadata": {
    "collapsed": false
   }
  },
  {
   "cell_type": "markdown",
   "source": [
    "The Reviewer here is positive sentiment, but what drived the model to predict bad is the author view of how magazine has changed over time."
   ],
   "metadata": {
    "collapsed": false
   }
  },
  {
   "cell_type": "markdown",
   "source": [
    "----------------------\n",
    "## Conclusions"
   ],
   "metadata": {
    "collapsed": false
   }
  },
  {
   "cell_type": "markdown",
   "source": [
    "For a magazine publisher/seller, who do not have historical labeled data or resources like Amazon, Can use our model trained on amazon review data, to predict if their customer retains or churns based on the sentiment.\n",
    "Through our multiple approaches, while VADER sentiment scores do help, generating a cutoff do need some kind of labeled data or else we go blind on our threshold cut off.\n",
    "Finally, Our SGD Classifier has performed extremely well in identifying the customers sentiment, using sytactically augmented classification."
   ],
   "metadata": {
    "collapsed": false
   }
  },
  {
   "cell_type": "markdown",
   "source": [
    "**Additional Tests:**\n",
    "Random Tests on our model using reviews picked from google search"
   ],
   "metadata": {
    "collapsed": false
   }
  },
  {
   "cell_type": "code",
   "execution_count": 202,
   "outputs": [],
   "source": [
    "review1 = \"Not even worth the $5\" + \" \" + \"While understanding this magazine will contain ads in it, I didn't expect the large mass of ads in this! This magazine is called better home's and gardens I've subscribed to this magazine because I was hoping for garden ideas. Nothing but maybe a 2 page insert about what type of mulch to use, if that. The rest is just pictures of houses with no ideas, just look how pretty this house is. ugh. I'm happy I got this for almost nothing as I would've been so mad! Please look at it at the checkout at the grocery store and see if it's for you. They should change their title!\""
   ],
   "metadata": {
    "collapsed": false
   }
  },
  {
   "cell_type": "code",
   "execution_count": 228,
   "outputs": [
    {
     "data": {
      "text/plain": "{'neg': 0.104, 'neu': 0.762, 'pos': 0.134, 'compound': 0.6041}"
     },
     "execution_count": 228,
     "metadata": {},
     "output_type": "execute_result"
    }
   ],
   "source": [
    "analyzer.polarity_scores(review1)"
   ],
   "metadata": {
    "collapsed": false
   }
  },
  {
   "cell_type": "code",
   "execution_count": 223,
   "outputs": [],
   "source": [
    "final = pd.DataFrame({\"text\": [review1]})\n",
    "final[\"tokens\"] = final[\"text\"].apply(tokenize)"
   ],
   "metadata": {
    "collapsed": false
   }
  },
  {
   "cell_type": "code",
   "execution_count": 224,
   "outputs": [
    {
     "data": {
      "text/plain": "                                                text  \\\n0  Not even worth the $5 While understanding this...   \n\n                                              tokens  \n0  [not, even, worth, the, $, while, understandin...  ",
      "text/html": "<div>\n<style scoped>\n    .dataframe tbody tr th:only-of-type {\n        vertical-align: middle;\n    }\n\n    .dataframe tbody tr th {\n        vertical-align: top;\n    }\n\n    .dataframe thead th {\n        text-align: right;\n    }\n</style>\n<table border=\"1\" class=\"dataframe\">\n  <thead>\n    <tr style=\"text-align: right;\">\n      <th></th>\n      <th>text</th>\n      <th>tokens</th>\n    </tr>\n  </thead>\n  <tbody>\n    <tr>\n      <th>0</th>\n      <td>Not even worth the $5 While understanding this...</td>\n      <td>[not, even, worth, the, $, while, understandin...</td>\n    </tr>\n  </tbody>\n</table>\n</div>"
     },
     "execution_count": 224,
     "metadata": {},
     "output_type": "execute_result"
    }
   ],
   "source": [
    "final"
   ],
   "metadata": {
    "collapsed": false
   }
  },
  {
   "cell_type": "code",
   "execution_count": 225,
   "outputs": [
    {
     "data": {
      "text/plain": "array(['bad'], dtype='<U4')"
     },
     "execution_count": 225,
     "metadata": {},
     "output_type": "execute_result"
    }
   ],
   "source": [
    "sgd_1.predict(final[\"tokens\"])"
   ],
   "metadata": {
    "collapsed": false
   }
  },
  {
   "cell_type": "code",
   "execution_count": 226,
   "outputs": [
    {
     "data": {
      "text/plain": "  0%|          | 0/1 [00:00<?, ?it/s]",
      "application/vnd.jupyter.widget-view+json": {
       "version_major": 2,
       "version_minor": 0,
       "model_id": "d7b08ea6d887432f86c51ca51b53439a"
      }
     },
     "metadata": {},
     "output_type": "display_data"
    }
   ],
   "source": [
    "docs = DocBin(docs=nlp2.pipe(tqdm(final['text'])))\n",
    "final[\"doc\"] = list(docs.get_docs(nlp2.vocab))"
   ],
   "metadata": {
    "collapsed": false
   }
  },
  {
   "cell_type": "code",
   "execution_count": 227,
   "outputs": [
    {
     "data": {
      "text/plain": "array(['bad'], dtype='<U4')"
     },
     "execution_count": 227,
     "metadata": {},
     "output_type": "execute_result"
    }
   ],
   "source": [
    "m3.predict(final[\"doc\"])"
   ],
   "metadata": {
    "collapsed": false
   }
  },
  {
   "cell_type": "markdown",
   "source": [
    "**Result:**\n",
    "1. A random bad review for the magazine \"Better Homes & Gardens Magazine\" is picked from internet.\n",
    "2. It got a vader compound score 0.6041, which vader thinks it is positive mostly.\n",
    "3. But our simple sgd model and final sgd model both predicted, the review is bad.\n",
    "4. We have predicted the customer would churn, which we could not have with a simple sentiment score.\n"
   ],
   "metadata": {
    "collapsed": false
   }
  },
  {
   "cell_type": "code",
   "execution_count": null,
   "outputs": [],
   "source": [],
   "metadata": {
    "collapsed": false
   }
  }
 ],
 "metadata": {
  "kernelspec": {
   "display_name": "Python 3",
   "language": "python",
   "name": "python3"
  },
  "language_info": {
   "codemirror_mode": {
    "name": "ipython",
    "version": 2
   },
   "file_extension": ".py",
   "mimetype": "text/x-python",
   "name": "python",
   "nbconvert_exporter": "python",
   "pygments_lexer": "ipython2",
   "version": "2.7.6"
  }
 },
 "nbformat": 4,
 "nbformat_minor": 0
}
